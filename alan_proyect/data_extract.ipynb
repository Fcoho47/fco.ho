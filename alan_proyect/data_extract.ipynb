{
 "cells": [
  {
   "cell_type": "code",
   "execution_count": 3,
   "metadata": {},
   "outputs": [],
   "source": [
    "import pandas as pd\n",
    "import altair as alt"
   ]
  },
  {
   "cell_type": "code",
   "execution_count": 31,
   "metadata": {},
   "outputs": [
    {
     "data": {
      "text/html": [
       "<div>\n",
       "<style scoped>\n",
       "    .dataframe tbody tr th:only-of-type {\n",
       "        vertical-align: middle;\n",
       "    }\n",
       "\n",
       "    .dataframe tbody tr th {\n",
       "        vertical-align: top;\n",
       "    }\n",
       "\n",
       "    .dataframe thead th {\n",
       "        text-align: right;\n",
       "    }\n",
       "</style>\n",
       "<table border=\"1\" class=\"dataframe\">\n",
       "  <thead>\n",
       "    <tr style=\"text-align: right;\">\n",
       "      <th></th>\n",
       "      <th>AÑO</th>\n",
       "      <th>MES</th>\n",
       "      <th>PLANTA</th>\n",
       "      <th>APELLIDOS</th>\n",
       "      <th>NOMBRE</th>\n",
       "      <th>GENERO</th>\n",
       "      <th>RUT</th>\n",
       "      <th>FECHA CONTRATO</th>\n",
       "      <th>MESES INTERNO</th>\n",
       "      <th>FECHA INCCIDENTE</th>\n",
       "      <th>...</th>\n",
       "      <th>PARTE AFECTADA</th>\n",
       "      <th>NATURALEZA DE LA LESION</th>\n",
       "      <th>TIPO ACCIDENTE</th>\n",
       "      <th>DESCRIPCION DEL EVENTO</th>\n",
       "      <th>ACCION - CONDICION</th>\n",
       "      <th>TRABAJO HABITUAL</th>\n",
       "      <th>DERIVACION ACHS</th>\n",
       "      <th>EXPERTO DE TURNO</th>\n",
       "      <th>Atencion SPA</th>\n",
       "      <th>FUENTES (TAREA)</th>\n",
       "    </tr>\n",
       "  </thead>\n",
       "  <tbody>\n",
       "    <tr>\n",
       "      <th>0</th>\n",
       "      <td>2023</td>\n",
       "      <td>ENERO</td>\n",
       "      <td>EL PAICO</td>\n",
       "      <td>VERA CATALAN</td>\n",
       "      <td>IVAN</td>\n",
       "      <td>MASCULINO</td>\n",
       "      <td>18488665-0</td>\n",
       "      <td>2019-04-08 00:00:00</td>\n",
       "      <td>45</td>\n",
       "      <td>2023-01-18</td>\n",
       "      <td>...</td>\n",
       "      <td>Manos / dedos</td>\n",
       "      <td>Otros</td>\n",
       "      <td>Sobreesfuerzo</td>\n",
       "      <td>TRABAJADOR SUBRE TIRON AL ESTAR CORTANDO LAS A...</td>\n",
       "      <td>ACCION</td>\n",
       "      <td>SI</td>\n",
       "      <td>NO</td>\n",
       "      <td>ALAN CARRASCO</td>\n",
       "      <td>GABRIELA CABEZAS</td>\n",
       "      <td>NaN</td>\n",
       "    </tr>\n",
       "    <tr>\n",
       "      <th>1</th>\n",
       "      <td>2023</td>\n",
       "      <td>ENERO</td>\n",
       "      <td>EL PAICO</td>\n",
       "      <td>ROCHA VARELA</td>\n",
       "      <td>MARIANA</td>\n",
       "      <td>FEMENINO</td>\n",
       "      <td>15596634-3</td>\n",
       "      <td>2021-02-09 00:00:00</td>\n",
       "      <td>23</td>\n",
       "      <td>2023-01-19</td>\n",
       "      <td>...</td>\n",
       "      <td>Manos / dedos</td>\n",
       "      <td>Contusión</td>\n",
       "      <td>Caida de mismo nivel</td>\n",
       "      <td>COLABORADOR AL ESTAR DESPLAZANDOSE AL INTERIOR...</td>\n",
       "      <td>ACCION</td>\n",
       "      <td>SI</td>\n",
       "      <td>NO</td>\n",
       "      <td>NICOLAS GOMEZ</td>\n",
       "      <td>CHRISTIAN JHONS</td>\n",
       "      <td>NaN</td>\n",
       "    </tr>\n",
       "    <tr>\n",
       "      <th>2</th>\n",
       "      <td>2023</td>\n",
       "      <td>ENERO</td>\n",
       "      <td>EL PAICO</td>\n",
       "      <td>QUIROZ SAAVEDRA</td>\n",
       "      <td>JORGE</td>\n",
       "      <td>MASCULINO</td>\n",
       "      <td>10261648-0</td>\n",
       "      <td>2002-08-23 00:00:00</td>\n",
       "      <td>244</td>\n",
       "      <td>2023-01-21</td>\n",
       "      <td>...</td>\n",
       "      <td>Manos / dedos</td>\n",
       "      <td>Atrición</td>\n",
       "      <td>Atrapamiento</td>\n",
       "      <td>TRABAJADOR EL CUAL SE ENCONTRABA TRANSLANDO LA...</td>\n",
       "      <td>ACCION</td>\n",
       "      <td>SI</td>\n",
       "      <td>SI</td>\n",
       "      <td>NICOLAS GOMEZ</td>\n",
       "      <td>CARLOS CARTAGENA</td>\n",
       "      <td>TRANSPORTE DE CINTA</td>\n",
       "    </tr>\n",
       "    <tr>\n",
       "      <th>3</th>\n",
       "      <td>2023</td>\n",
       "      <td>ENERO</td>\n",
       "      <td>EL PAICO</td>\n",
       "      <td>PEREZ CAMPOS</td>\n",
       "      <td>CARMEN</td>\n",
       "      <td>FEMENINO</td>\n",
       "      <td>11608562-3</td>\n",
       "      <td>1998-04-01 00:00:00</td>\n",
       "      <td>297</td>\n",
       "      <td>2023-01-13</td>\n",
       "      <td>...</td>\n",
       "      <td>Manos / dedos</td>\n",
       "      <td>Otros</td>\n",
       "      <td>Contacto con cuerpo punzante</td>\n",
       "      <td>TRABAJADORA SE ENCONTRABA REALIZANDO INSPECCIO...</td>\n",
       "      <td>CONDICION</td>\n",
       "      <td>SI</td>\n",
       "      <td>NO</td>\n",
       "      <td>CARLOS ORELLANA</td>\n",
       "      <td>CARLOS CARTAGENA</td>\n",
       "      <td>NaN</td>\n",
       "    </tr>\n",
       "    <tr>\n",
       "      <th>4</th>\n",
       "      <td>2023</td>\n",
       "      <td>ENERO</td>\n",
       "      <td>EL PAICO</td>\n",
       "      <td>PEÑA ASTORGA</td>\n",
       "      <td>GUSTAVO</td>\n",
       "      <td>MASCULINO</td>\n",
       "      <td>17225054-8</td>\n",
       "      <td>2019-11-11 00:00:00</td>\n",
       "      <td>37</td>\n",
       "      <td>2023-01-03</td>\n",
       "      <td>...</td>\n",
       "      <td>Rostro</td>\n",
       "      <td>Herida cortante</td>\n",
       "      <td>Golpeado por</td>\n",
       "      <td>ESTABA BAJANDO BANDEJA DE LINEA DE DESCOLGADO ...</td>\n",
       "      <td>ACCION</td>\n",
       "      <td>SI</td>\n",
       "      <td>NO</td>\n",
       "      <td>NICOLAS GOMEZ</td>\n",
       "      <td>CHRISTIAN JHONS</td>\n",
       "      <td>NaN</td>\n",
       "    </tr>\n",
       "    <tr>\n",
       "      <th>...</th>\n",
       "      <td>...</td>\n",
       "      <td>...</td>\n",
       "      <td>...</td>\n",
       "      <td>...</td>\n",
       "      <td>...</td>\n",
       "      <td>...</td>\n",
       "      <td>...</td>\n",
       "      <td>...</td>\n",
       "      <td>...</td>\n",
       "      <td>...</td>\n",
       "      <td>...</td>\n",
       "      <td>...</td>\n",
       "      <td>...</td>\n",
       "      <td>...</td>\n",
       "      <td>...</td>\n",
       "      <td>...</td>\n",
       "      <td>...</td>\n",
       "      <td>...</td>\n",
       "      <td>...</td>\n",
       "      <td>...</td>\n",
       "      <td>...</td>\n",
       "    </tr>\n",
       "    <tr>\n",
       "      <th>227</th>\n",
       "      <td>2023</td>\n",
       "      <td>DICIEMBRE</td>\n",
       "      <td>EL PAICO</td>\n",
       "      <td>SAN MARTIN PAREDES</td>\n",
       "      <td>MARIANO</td>\n",
       "      <td>MASCULINO</td>\n",
       "      <td>20424493-6</td>\n",
       "      <td>2022-11-22 00:00:00</td>\n",
       "      <td>12</td>\n",
       "      <td>2023-12-20</td>\n",
       "      <td>...</td>\n",
       "      <td>Pie</td>\n",
       "      <td>Atrición</td>\n",
       "      <td>Golpeado contra</td>\n",
       "      <td>COLABORADOR SUFRE ATRISION DE PIE AL MOMENTO D...</td>\n",
       "      <td>ACCION</td>\n",
       "      <td>SI</td>\n",
       "      <td>NO</td>\n",
       "      <td>NICOLAS GOMEZ</td>\n",
       "      <td>CARLOS CARTAGENA</td>\n",
       "      <td>NaN</td>\n",
       "    </tr>\n",
       "    <tr>\n",
       "      <th>228</th>\n",
       "      <td>2023</td>\n",
       "      <td>DICIEMBRE</td>\n",
       "      <td>EL PAICO</td>\n",
       "      <td>CONTANZO CIFUENTES</td>\n",
       "      <td>GERARDO</td>\n",
       "      <td>MASCULINO</td>\n",
       "      <td>9955135-6</td>\n",
       "      <td>2022-03-16 00:00:00</td>\n",
       "      <td>21</td>\n",
       "      <td>2023-12-29</td>\n",
       "      <td>...</td>\n",
       "      <td>Rostro</td>\n",
       "      <td>Herida cortante</td>\n",
       "      <td>Golpeado por</td>\n",
       "      <td>COLABORADOR SUFRE HERIDA CORTANTE EN CEJA DERE...</td>\n",
       "      <td>CONDICION</td>\n",
       "      <td>SI</td>\n",
       "      <td>SI</td>\n",
       "      <td>NICOLAS GOMEZ</td>\n",
       "      <td>CHISTIAN JHONS</td>\n",
       "      <td>NaN</td>\n",
       "    </tr>\n",
       "    <tr>\n",
       "      <th>229</th>\n",
       "      <td>2023</td>\n",
       "      <td>DICIEMBRE</td>\n",
       "      <td>EL PAICO</td>\n",
       "      <td>ARAYA PIZARRO</td>\n",
       "      <td>HECTOR</td>\n",
       "      <td>MASCULINO</td>\n",
       "      <td>17907779-5</td>\n",
       "      <td>2014-02-03 00:00:00</td>\n",
       "      <td>118</td>\n",
       "      <td>2023-12-29</td>\n",
       "      <td>...</td>\n",
       "      <td>Ojos</td>\n",
       "      <td>Conjuntivitis</td>\n",
       "      <td>Proyeccion de particulas</td>\n",
       "      <td>COLABORADOR SUFRE MOLESTIA OCULAR EN OJO IZQUI...</td>\n",
       "      <td>ACCION</td>\n",
       "      <td>SI</td>\n",
       "      <td>NO</td>\n",
       "      <td>NICOLAS GOMEZ</td>\n",
       "      <td>CHISTIAN JHONS</td>\n",
       "      <td>NaN</td>\n",
       "    </tr>\n",
       "    <tr>\n",
       "      <th>230</th>\n",
       "      <td>2023</td>\n",
       "      <td>DICIEMBRE</td>\n",
       "      <td>EL PAICO</td>\n",
       "      <td>CARRASCO PINTO</td>\n",
       "      <td>PAOLA</td>\n",
       "      <td>FEMENINO</td>\n",
       "      <td>16921753-K</td>\n",
       "      <td>2014-11-10 00:00:00</td>\n",
       "      <td>109</td>\n",
       "      <td>2023-12-29</td>\n",
       "      <td>...</td>\n",
       "      <td>Multiples</td>\n",
       "      <td>Contusión</td>\n",
       "      <td>Golpeado por</td>\n",
       "      <td>COLABORADORA SUFRE CONSTUSION EN ANTEBRAZO Y C...</td>\n",
       "      <td>CONDICION</td>\n",
       "      <td>SI</td>\n",
       "      <td>NO</td>\n",
       "      <td>NICOLAS GOMEZ</td>\n",
       "      <td>CHISTIAN JHONS</td>\n",
       "      <td>NaN</td>\n",
       "    </tr>\n",
       "    <tr>\n",
       "      <th>231</th>\n",
       "      <td>2023</td>\n",
       "      <td>DICIEMBRE</td>\n",
       "      <td>EL PAICO</td>\n",
       "      <td>FRIAS GALLEGUILLOS</td>\n",
       "      <td>BENJANMIN</td>\n",
       "      <td>MASCULINO</td>\n",
       "      <td>20879430-2</td>\n",
       "      <td>2022-11-11 00:00:00</td>\n",
       "      <td>13</td>\n",
       "      <td>2023-12-29</td>\n",
       "      <td>...</td>\n",
       "      <td>Brazo</td>\n",
       "      <td>Otros</td>\n",
       "      <td>Sobreesfuerzo</td>\n",
       "      <td>COLABORADOR SUFRE LUXACIÓN EN CODO IZQUIERDO A...</td>\n",
       "      <td>ACCION</td>\n",
       "      <td>SI</td>\n",
       "      <td>NO</td>\n",
       "      <td>NICOLAS GOMEZ</td>\n",
       "      <td>CARLOS CARTAGENA</td>\n",
       "      <td>NaN</td>\n",
       "    </tr>\n",
       "  </tbody>\n",
       "</table>\n",
       "<p>232 rows × 43 columns</p>\n",
       "</div>"
      ],
      "text/plain": [
       "      AÑO        MES    PLANTA           APELLIDOS     NOMBRE     GENERO   \n",
       "0    2023      ENERO  EL PAICO        VERA CATALAN      IVAN   MASCULINO  \\\n",
       "1    2023      ENERO  EL PAICO        ROCHA VARELA    MARIANA   FEMENINO   \n",
       "2    2023      ENERO  EL PAICO     QUIROZ SAAVEDRA      JORGE  MASCULINO   \n",
       "3    2023      ENERO  EL PAICO        PEREZ CAMPOS     CARMEN   FEMENINO   \n",
       "4    2023      ENERO  EL PAICO        PEÑA ASTORGA    GUSTAVO  MASCULINO   \n",
       "..    ...        ...       ...                 ...        ...        ...   \n",
       "227  2023  DICIEMBRE  EL PAICO  SAN MARTIN PAREDES    MARIANO  MASCULINO   \n",
       "228  2023  DICIEMBRE  EL PAICO  CONTANZO CIFUENTES    GERARDO  MASCULINO   \n",
       "229  2023  DICIEMBRE  EL PAICO       ARAYA PIZARRO     HECTOR  MASCULINO   \n",
       "230  2023  DICIEMBRE  EL PAICO      CARRASCO PINTO      PAOLA   FEMENINO   \n",
       "231  2023  DICIEMBRE  EL PAICO  FRIAS GALLEGUILLOS  BENJANMIN  MASCULINO   \n",
       "\n",
       "             RUT       FECHA CONTRATO  MESES INTERNO FECHA INCCIDENTE  ...   \n",
       "0    18488665-0   2019-04-08 00:00:00             45       2023-01-18  ...  \\\n",
       "1     15596634-3  2021-02-09 00:00:00             23       2023-01-19  ...   \n",
       "2     10261648-0  2002-08-23 00:00:00            244       2023-01-21  ...   \n",
       "3     11608562-3  1998-04-01 00:00:00            297       2023-01-13  ...   \n",
       "4     17225054-8  2019-11-11 00:00:00             37       2023-01-03  ...   \n",
       "..           ...                  ...            ...              ...  ...   \n",
       "227   20424493-6  2022-11-22 00:00:00             12       2023-12-20  ...   \n",
       "228    9955135-6  2022-03-16 00:00:00             21       2023-12-29  ...   \n",
       "229   17907779-5  2014-02-03 00:00:00            118       2023-12-29  ...   \n",
       "230   16921753-K  2014-11-10 00:00:00            109       2023-12-29  ...   \n",
       "231   20879430-2  2022-11-11 00:00:00             13       2023-12-29  ...   \n",
       "\n",
       "    PARTE AFECTADA NATURALEZA DE LA LESION                 TIPO ACCIDENTE   \n",
       "0    Manos / dedos                    Otros                 Sobreesfuerzo  \\\n",
       "1    Manos / dedos                Contusión          Caida de mismo nivel   \n",
       "2    Manos / dedos                 Atrición                  Atrapamiento   \n",
       "3    Manos / dedos                    Otros  Contacto con cuerpo punzante   \n",
       "4           Rostro          Herida cortante                  Golpeado por   \n",
       "..             ...                      ...                           ...   \n",
       "227            Pie                 Atrición               Golpeado contra   \n",
       "228         Rostro          Herida cortante                  Golpeado por   \n",
       "229           Ojos            Conjuntivitis      Proyeccion de particulas   \n",
       "230      Multiples                Contusión                  Golpeado por   \n",
       "231          Brazo                    Otros                 Sobreesfuerzo   \n",
       "\n",
       "                               DESCRIPCION DEL EVENTO  ACCION - CONDICION   \n",
       "0    TRABAJADOR SUBRE TIRON AL ESTAR CORTANDO LAS A...             ACCION  \\\n",
       "1    COLABORADOR AL ESTAR DESPLAZANDOSE AL INTERIOR...             ACCION   \n",
       "2    TRABAJADOR EL CUAL SE ENCONTRABA TRANSLANDO LA...             ACCION   \n",
       "3    TRABAJADORA SE ENCONTRABA REALIZANDO INSPECCIO...          CONDICION   \n",
       "4    ESTABA BAJANDO BANDEJA DE LINEA DE DESCOLGADO ...             ACCION   \n",
       "..                                                 ...                ...   \n",
       "227  COLABORADOR SUFRE ATRISION DE PIE AL MOMENTO D...             ACCION   \n",
       "228  COLABORADOR SUFRE HERIDA CORTANTE EN CEJA DERE...          CONDICION   \n",
       "229  COLABORADOR SUFRE MOLESTIA OCULAR EN OJO IZQUI...             ACCION   \n",
       "230  COLABORADORA SUFRE CONSTUSION EN ANTEBRAZO Y C...          CONDICION   \n",
       "231  COLABORADOR SUFRE LUXACIÓN EN CODO IZQUIERDO A...             ACCION   \n",
       "\n",
       "    TRABAJO HABITUAL DERIVACION ACHS EXPERTO DE TURNO       Atencion SPA   \n",
       "0                 SI              NO    ALAN CARRASCO  GABRIELA CABEZAS   \\\n",
       "1                 SI              NO    NICOLAS GOMEZ    CHRISTIAN JHONS   \n",
       "2                 SI              SI    NICOLAS GOMEZ   CARLOS CARTAGENA   \n",
       "3                 SI              NO  CARLOS ORELLANA   CARLOS CARTAGENA   \n",
       "4                 SI              NO    NICOLAS GOMEZ    CHRISTIAN JHONS   \n",
       "..               ...             ...              ...                ...   \n",
       "227               SI              NO    NICOLAS GOMEZ   CARLOS CARTAGENA   \n",
       "228               SI              SI    NICOLAS GOMEZ     CHISTIAN JHONS   \n",
       "229               SI              NO    NICOLAS GOMEZ     CHISTIAN JHONS   \n",
       "230               SI              NO    NICOLAS GOMEZ     CHISTIAN JHONS   \n",
       "231               SI              NO    NICOLAS GOMEZ   CARLOS CARTAGENA   \n",
       "\n",
       "         FUENTES (TAREA)  \n",
       "0                    NaN  \n",
       "1                    NaN  \n",
       "2    TRANSPORTE DE CINTA  \n",
       "3                    NaN  \n",
       "4                    NaN  \n",
       "..                   ...  \n",
       "227                  NaN  \n",
       "228                  NaN  \n",
       "229                  NaN  \n",
       "230                  NaN  \n",
       "231                  NaN  \n",
       "\n",
       "[232 rows x 43 columns]"
      ]
     },
     "execution_count": 31,
     "metadata": {},
     "output_type": "execute_result"
    }
   ],
   "source": [
    "data"
   ]
  },
  {
   "cell_type": "code",
   "execution_count": 5,
   "metadata": {},
   "outputs": [
    {
     "name": "stdout",
     "output_type": "stream",
     "text": [
      "           MES  cantidad\n",
      "0        ENERO        13\n",
      "1      FEBRERO        11\n",
      "2        MARZO        24\n",
      "3        ABRIL        23\n",
      "4         MAYO        30\n",
      "5        JUNIO        17\n",
      "6        JULIO        17\n",
      "7       AGOSTO        32\n",
      "8   SEPTIEMBRE        13\n",
      "9      OCTUBRE        11\n",
      "10   NOVIEMBRE        25\n",
      "11   DICIEMBRE        16\n"
     ]
    }
   ],
   "source": [
    "import pandas as pd\n",
    "\n",
    "\n",
    "data = pd.read_excel('C:/Users/franc/OneDrive/Documentos/VScode/fco.ho/alan_proyect/data/tabla1.xlsx')\n",
    "\n",
    "orden_deseado = ['ENERO', 'FEBRERO', 'MARZO', 'ABRIL', 'MAYO', 'JUNIO', 'JULIO', 'AGOSTO', 'SEPTIEMBRE', 'OCTUBRE', 'NOVIEMBRE', 'DICIEMBRE']\n",
    "\n",
    "data['MES'] = pd.Categorical(data['MES'], categories=orden_deseado, ordered=True)\n",
    "accidentes_por_mes = data.groupby('MES').size().reset_index(name='cantidad')\n",
    "accidentes_por_mes = accidentes_por_mes.sort_values('MES')\n",
    "\n",
    "print(accidentes_por_mes)"
   ]
  },
  {
   "cell_type": "code",
   "execution_count": 7,
   "metadata": {},
   "outputs": [
    {
     "name": "stdout",
     "output_type": "stream",
     "text": [
      "    PARTE AFECTADA  cantidad\n",
      "0            Brazo        20\n",
      "1           Cabeza         8\n",
      "2          Espalda        17\n",
      "3   Lesion Interna         1\n",
      "4    Manos / dedos        71\n",
      "5        Multiples        18\n",
      "6             Ojos        26\n",
      "7           Pelvis         1\n",
      "8              Pie        29\n",
      "9           Pierna        29\n",
      "10          Rostro         9\n",
      "11          Tronco         3\n"
     ]
    }
   ],
   "source": [
    "accidentes_por_parte = data.groupby('PARTE AFECTADA').size().reset_index(name='cantidad')\n",
    "\n",
    "print(accidentes_por_parte)"
   ]
  },
  {
   "cell_type": "code",
   "execution_count": 20,
   "metadata": {},
   "outputs": [],
   "source": [
    "data['MES'] = pd.Categorical(data['MES'], categories=orden_deseado, ordered=True)\n",
    "\n",
    "# Agrupar por la columna 'MES' y contar el número de ocurrencias\n",
    "accidentes_por_mes = data.groupby('MES').size().reset_index(name='cantidad')\n",
    "\n",
    "# Ordenar los resultados según el orden deseado\n",
    "accidentes_por_mes = accidentes_por_mes.sort_values('MES')"
   ]
  },
  {
   "cell_type": "code",
   "execution_count": 25,
   "metadata": {},
   "outputs": [
    {
     "data": {
      "application/vnd.plotly.v1+json": {
       "config": {
        "plotlyServerURL": "https://plot.ly"
       },
       "data": [
        {
         "hovertemplate": "MES=%{x}<br>cantidad=%{y}<extra></extra>",
         "legendgroup": "",
         "line": {
          "color": "#636efa",
          "dash": "solid"
         },
         "marker": {
          "symbol": "circle"
         },
         "mode": "lines",
         "name": "",
         "orientation": "v",
         "showlegend": false,
         "type": "scatter",
         "x": [
          "ENERO",
          "FEBRERO",
          "MARZO",
          "ABRIL",
          "MAYO",
          "JUNIO",
          "JULIO",
          "AGOSTO",
          "SEPTIEMBRE",
          "OCTUBRE",
          "NOVIEMBRE",
          "DICIEMBRE"
         ],
         "xaxis": "x",
         "y": [
          13,
          11,
          24,
          23,
          30,
          17,
          17,
          32,
          13,
          11,
          25,
          16
         ],
         "yaxis": "y"
        }
       ],
       "layout": {
        "legend": {
         "tracegroupgap": 0
        },
        "template": {
         "data": {
          "bar": [
           {
            "error_x": {
             "color": "#2a3f5f"
            },
            "error_y": {
             "color": "#2a3f5f"
            },
            "marker": {
             "line": {
              "color": "#E5ECF6",
              "width": 0.5
             },
             "pattern": {
              "fillmode": "overlay",
              "size": 10,
              "solidity": 0.2
             }
            },
            "type": "bar"
           }
          ],
          "barpolar": [
           {
            "marker": {
             "line": {
              "color": "#E5ECF6",
              "width": 0.5
             },
             "pattern": {
              "fillmode": "overlay",
              "size": 10,
              "solidity": 0.2
             }
            },
            "type": "barpolar"
           }
          ],
          "carpet": [
           {
            "aaxis": {
             "endlinecolor": "#2a3f5f",
             "gridcolor": "white",
             "linecolor": "white",
             "minorgridcolor": "white",
             "startlinecolor": "#2a3f5f"
            },
            "baxis": {
             "endlinecolor": "#2a3f5f",
             "gridcolor": "white",
             "linecolor": "white",
             "minorgridcolor": "white",
             "startlinecolor": "#2a3f5f"
            },
            "type": "carpet"
           }
          ],
          "choropleth": [
           {
            "colorbar": {
             "outlinewidth": 0,
             "ticks": ""
            },
            "type": "choropleth"
           }
          ],
          "contour": [
           {
            "colorbar": {
             "outlinewidth": 0,
             "ticks": ""
            },
            "colorscale": [
             [
              0,
              "#0d0887"
             ],
             [
              0.1111111111111111,
              "#46039f"
             ],
             [
              0.2222222222222222,
              "#7201a8"
             ],
             [
              0.3333333333333333,
              "#9c179e"
             ],
             [
              0.4444444444444444,
              "#bd3786"
             ],
             [
              0.5555555555555556,
              "#d8576b"
             ],
             [
              0.6666666666666666,
              "#ed7953"
             ],
             [
              0.7777777777777778,
              "#fb9f3a"
             ],
             [
              0.8888888888888888,
              "#fdca26"
             ],
             [
              1,
              "#f0f921"
             ]
            ],
            "type": "contour"
           }
          ],
          "contourcarpet": [
           {
            "colorbar": {
             "outlinewidth": 0,
             "ticks": ""
            },
            "type": "contourcarpet"
           }
          ],
          "heatmap": [
           {
            "colorbar": {
             "outlinewidth": 0,
             "ticks": ""
            },
            "colorscale": [
             [
              0,
              "#0d0887"
             ],
             [
              0.1111111111111111,
              "#46039f"
             ],
             [
              0.2222222222222222,
              "#7201a8"
             ],
             [
              0.3333333333333333,
              "#9c179e"
             ],
             [
              0.4444444444444444,
              "#bd3786"
             ],
             [
              0.5555555555555556,
              "#d8576b"
             ],
             [
              0.6666666666666666,
              "#ed7953"
             ],
             [
              0.7777777777777778,
              "#fb9f3a"
             ],
             [
              0.8888888888888888,
              "#fdca26"
             ],
             [
              1,
              "#f0f921"
             ]
            ],
            "type": "heatmap"
           }
          ],
          "heatmapgl": [
           {
            "colorbar": {
             "outlinewidth": 0,
             "ticks": ""
            },
            "colorscale": [
             [
              0,
              "#0d0887"
             ],
             [
              0.1111111111111111,
              "#46039f"
             ],
             [
              0.2222222222222222,
              "#7201a8"
             ],
             [
              0.3333333333333333,
              "#9c179e"
             ],
             [
              0.4444444444444444,
              "#bd3786"
             ],
             [
              0.5555555555555556,
              "#d8576b"
             ],
             [
              0.6666666666666666,
              "#ed7953"
             ],
             [
              0.7777777777777778,
              "#fb9f3a"
             ],
             [
              0.8888888888888888,
              "#fdca26"
             ],
             [
              1,
              "#f0f921"
             ]
            ],
            "type": "heatmapgl"
           }
          ],
          "histogram": [
           {
            "marker": {
             "pattern": {
              "fillmode": "overlay",
              "size": 10,
              "solidity": 0.2
             }
            },
            "type": "histogram"
           }
          ],
          "histogram2d": [
           {
            "colorbar": {
             "outlinewidth": 0,
             "ticks": ""
            },
            "colorscale": [
             [
              0,
              "#0d0887"
             ],
             [
              0.1111111111111111,
              "#46039f"
             ],
             [
              0.2222222222222222,
              "#7201a8"
             ],
             [
              0.3333333333333333,
              "#9c179e"
             ],
             [
              0.4444444444444444,
              "#bd3786"
             ],
             [
              0.5555555555555556,
              "#d8576b"
             ],
             [
              0.6666666666666666,
              "#ed7953"
             ],
             [
              0.7777777777777778,
              "#fb9f3a"
             ],
             [
              0.8888888888888888,
              "#fdca26"
             ],
             [
              1,
              "#f0f921"
             ]
            ],
            "type": "histogram2d"
           }
          ],
          "histogram2dcontour": [
           {
            "colorbar": {
             "outlinewidth": 0,
             "ticks": ""
            },
            "colorscale": [
             [
              0,
              "#0d0887"
             ],
             [
              0.1111111111111111,
              "#46039f"
             ],
             [
              0.2222222222222222,
              "#7201a8"
             ],
             [
              0.3333333333333333,
              "#9c179e"
             ],
             [
              0.4444444444444444,
              "#bd3786"
             ],
             [
              0.5555555555555556,
              "#d8576b"
             ],
             [
              0.6666666666666666,
              "#ed7953"
             ],
             [
              0.7777777777777778,
              "#fb9f3a"
             ],
             [
              0.8888888888888888,
              "#fdca26"
             ],
             [
              1,
              "#f0f921"
             ]
            ],
            "type": "histogram2dcontour"
           }
          ],
          "mesh3d": [
           {
            "colorbar": {
             "outlinewidth": 0,
             "ticks": ""
            },
            "type": "mesh3d"
           }
          ],
          "parcoords": [
           {
            "line": {
             "colorbar": {
              "outlinewidth": 0,
              "ticks": ""
             }
            },
            "type": "parcoords"
           }
          ],
          "pie": [
           {
            "automargin": true,
            "type": "pie"
           }
          ],
          "scatter": [
           {
            "fillpattern": {
             "fillmode": "overlay",
             "size": 10,
             "solidity": 0.2
            },
            "type": "scatter"
           }
          ],
          "scatter3d": [
           {
            "line": {
             "colorbar": {
              "outlinewidth": 0,
              "ticks": ""
             }
            },
            "marker": {
             "colorbar": {
              "outlinewidth": 0,
              "ticks": ""
             }
            },
            "type": "scatter3d"
           }
          ],
          "scattercarpet": [
           {
            "marker": {
             "colorbar": {
              "outlinewidth": 0,
              "ticks": ""
             }
            },
            "type": "scattercarpet"
           }
          ],
          "scattergeo": [
           {
            "marker": {
             "colorbar": {
              "outlinewidth": 0,
              "ticks": ""
             }
            },
            "type": "scattergeo"
           }
          ],
          "scattergl": [
           {
            "marker": {
             "colorbar": {
              "outlinewidth": 0,
              "ticks": ""
             }
            },
            "type": "scattergl"
           }
          ],
          "scattermapbox": [
           {
            "marker": {
             "colorbar": {
              "outlinewidth": 0,
              "ticks": ""
             }
            },
            "type": "scattermapbox"
           }
          ],
          "scatterpolar": [
           {
            "marker": {
             "colorbar": {
              "outlinewidth": 0,
              "ticks": ""
             }
            },
            "type": "scatterpolar"
           }
          ],
          "scatterpolargl": [
           {
            "marker": {
             "colorbar": {
              "outlinewidth": 0,
              "ticks": ""
             }
            },
            "type": "scatterpolargl"
           }
          ],
          "scatterternary": [
           {
            "marker": {
             "colorbar": {
              "outlinewidth": 0,
              "ticks": ""
             }
            },
            "type": "scatterternary"
           }
          ],
          "surface": [
           {
            "colorbar": {
             "outlinewidth": 0,
             "ticks": ""
            },
            "colorscale": [
             [
              0,
              "#0d0887"
             ],
             [
              0.1111111111111111,
              "#46039f"
             ],
             [
              0.2222222222222222,
              "#7201a8"
             ],
             [
              0.3333333333333333,
              "#9c179e"
             ],
             [
              0.4444444444444444,
              "#bd3786"
             ],
             [
              0.5555555555555556,
              "#d8576b"
             ],
             [
              0.6666666666666666,
              "#ed7953"
             ],
             [
              0.7777777777777778,
              "#fb9f3a"
             ],
             [
              0.8888888888888888,
              "#fdca26"
             ],
             [
              1,
              "#f0f921"
             ]
            ],
            "type": "surface"
           }
          ],
          "table": [
           {
            "cells": {
             "fill": {
              "color": "#EBF0F8"
             },
             "line": {
              "color": "white"
             }
            },
            "header": {
             "fill": {
              "color": "#C8D4E3"
             },
             "line": {
              "color": "white"
             }
            },
            "type": "table"
           }
          ]
         },
         "layout": {
          "annotationdefaults": {
           "arrowcolor": "#2a3f5f",
           "arrowhead": 0,
           "arrowwidth": 1
          },
          "autotypenumbers": "strict",
          "coloraxis": {
           "colorbar": {
            "outlinewidth": 0,
            "ticks": ""
           }
          },
          "colorscale": {
           "diverging": [
            [
             0,
             "#8e0152"
            ],
            [
             0.1,
             "#c51b7d"
            ],
            [
             0.2,
             "#de77ae"
            ],
            [
             0.3,
             "#f1b6da"
            ],
            [
             0.4,
             "#fde0ef"
            ],
            [
             0.5,
             "#f7f7f7"
            ],
            [
             0.6,
             "#e6f5d0"
            ],
            [
             0.7,
             "#b8e186"
            ],
            [
             0.8,
             "#7fbc41"
            ],
            [
             0.9,
             "#4d9221"
            ],
            [
             1,
             "#276419"
            ]
           ],
           "sequential": [
            [
             0,
             "#0d0887"
            ],
            [
             0.1111111111111111,
             "#46039f"
            ],
            [
             0.2222222222222222,
             "#7201a8"
            ],
            [
             0.3333333333333333,
             "#9c179e"
            ],
            [
             0.4444444444444444,
             "#bd3786"
            ],
            [
             0.5555555555555556,
             "#d8576b"
            ],
            [
             0.6666666666666666,
             "#ed7953"
            ],
            [
             0.7777777777777778,
             "#fb9f3a"
            ],
            [
             0.8888888888888888,
             "#fdca26"
            ],
            [
             1,
             "#f0f921"
            ]
           ],
           "sequentialminus": [
            [
             0,
             "#0d0887"
            ],
            [
             0.1111111111111111,
             "#46039f"
            ],
            [
             0.2222222222222222,
             "#7201a8"
            ],
            [
             0.3333333333333333,
             "#9c179e"
            ],
            [
             0.4444444444444444,
             "#bd3786"
            ],
            [
             0.5555555555555556,
             "#d8576b"
            ],
            [
             0.6666666666666666,
             "#ed7953"
            ],
            [
             0.7777777777777778,
             "#fb9f3a"
            ],
            [
             0.8888888888888888,
             "#fdca26"
            ],
            [
             1,
             "#f0f921"
            ]
           ]
          },
          "colorway": [
           "#636efa",
           "#EF553B",
           "#00cc96",
           "#ab63fa",
           "#FFA15A",
           "#19d3f3",
           "#FF6692",
           "#B6E880",
           "#FF97FF",
           "#FECB52"
          ],
          "font": {
           "color": "#2a3f5f"
          },
          "geo": {
           "bgcolor": "white",
           "lakecolor": "white",
           "landcolor": "#E5ECF6",
           "showlakes": true,
           "showland": true,
           "subunitcolor": "white"
          },
          "hoverlabel": {
           "align": "left"
          },
          "hovermode": "closest",
          "mapbox": {
           "style": "light"
          },
          "paper_bgcolor": "white",
          "plot_bgcolor": "#E5ECF6",
          "polar": {
           "angularaxis": {
            "gridcolor": "white",
            "linecolor": "white",
            "ticks": ""
           },
           "bgcolor": "#E5ECF6",
           "radialaxis": {
            "gridcolor": "white",
            "linecolor": "white",
            "ticks": ""
           }
          },
          "scene": {
           "xaxis": {
            "backgroundcolor": "#E5ECF6",
            "gridcolor": "white",
            "gridwidth": 2,
            "linecolor": "white",
            "showbackground": true,
            "ticks": "",
            "zerolinecolor": "white"
           },
           "yaxis": {
            "backgroundcolor": "#E5ECF6",
            "gridcolor": "white",
            "gridwidth": 2,
            "linecolor": "white",
            "showbackground": true,
            "ticks": "",
            "zerolinecolor": "white"
           },
           "zaxis": {
            "backgroundcolor": "#E5ECF6",
            "gridcolor": "white",
            "gridwidth": 2,
            "linecolor": "white",
            "showbackground": true,
            "ticks": "",
            "zerolinecolor": "white"
           }
          },
          "shapedefaults": {
           "line": {
            "color": "#2a3f5f"
           }
          },
          "ternary": {
           "aaxis": {
            "gridcolor": "white",
            "linecolor": "white",
            "ticks": ""
           },
           "baxis": {
            "gridcolor": "white",
            "linecolor": "white",
            "ticks": ""
           },
           "bgcolor": "#E5ECF6",
           "caxis": {
            "gridcolor": "white",
            "linecolor": "white",
            "ticks": ""
           }
          },
          "title": {
           "x": 0.05
          },
          "xaxis": {
           "automargin": true,
           "gridcolor": "white",
           "linecolor": "white",
           "ticks": "",
           "title": {
            "standoff": 15
           },
           "zerolinecolor": "white",
           "zerolinewidth": 2
          },
          "yaxis": {
           "automargin": true,
           "gridcolor": "white",
           "linecolor": "white",
           "ticks": "",
           "title": {
            "standoff": 15
           },
           "zerolinecolor": "white",
           "zerolinewidth": 2
          }
         }
        },
        "title": {
         "text": "Accidentes por mes"
        },
        "xaxis": {
         "anchor": "y",
         "domain": [
          0,
          1
         ],
         "title": {
          "text": "MES"
         }
        },
        "yaxis": {
         "anchor": "x",
         "domain": [
          0,
          1
         ],
         "title": {
          "text": "cantidad"
         }
        }
       }
      }
     },
     "metadata": {},
     "output_type": "display_data"
    }
   ],
   "source": [
    "import plotly.express as px\n",
    "\n",
    "fig = px.line(accidentes_por_mes, x=\"MES\", y=\"cantidad\", title='Accidentes por mes')\n",
    "fig.show()"
   ]
  },
  {
   "cell_type": "code",
   "execution_count": 32,
   "metadata": {},
   "outputs": [
    {
     "data": {
      "text/html": [
       "<div>\n",
       "<style scoped>\n",
       "    .dataframe tbody tr th:only-of-type {\n",
       "        vertical-align: middle;\n",
       "    }\n",
       "\n",
       "    .dataframe tbody tr th {\n",
       "        vertical-align: top;\n",
       "    }\n",
       "\n",
       "    .dataframe thead th {\n",
       "        text-align: right;\n",
       "    }\n",
       "</style>\n",
       "<table border=\"1\" class=\"dataframe\">\n",
       "  <thead>\n",
       "    <tr style=\"text-align: right;\">\n",
       "      <th></th>\n",
       "      <th>SUPERVISOR</th>\n",
       "      <th>cantidad</th>\n",
       "    </tr>\n",
       "  </thead>\n",
       "  <tbody>\n",
       "    <tr>\n",
       "      <th>0</th>\n",
       "      <td>ALEJANDRO SALAS</td>\n",
       "      <td>5</td>\n",
       "    </tr>\n",
       "    <tr>\n",
       "      <th>1</th>\n",
       "      <td>ALEJANDRO TORRES</td>\n",
       "      <td>15</td>\n",
       "    </tr>\n",
       "    <tr>\n",
       "      <th>2</th>\n",
       "      <td>ALEXIS ARAY</td>\n",
       "      <td>1</td>\n",
       "    </tr>\n",
       "    <tr>\n",
       "      <th>3</th>\n",
       "      <td>ALEXIS AROS</td>\n",
       "      <td>1</td>\n",
       "    </tr>\n",
       "    <tr>\n",
       "      <th>4</th>\n",
       "      <td>ALVARO ABARCA</td>\n",
       "      <td>3</td>\n",
       "    </tr>\n",
       "    <tr>\n",
       "      <th>5</th>\n",
       "      <td>ANTONIO RIVAS</td>\n",
       "      <td>2</td>\n",
       "    </tr>\n",
       "    <tr>\n",
       "      <th>6</th>\n",
       "      <td>ARNALDO VERA</td>\n",
       "      <td>7</td>\n",
       "    </tr>\n",
       "    <tr>\n",
       "      <th>7</th>\n",
       "      <td>CESAR CARTAGENA</td>\n",
       "      <td>6</td>\n",
       "    </tr>\n",
       "    <tr>\n",
       "      <th>8</th>\n",
       "      <td>CLAUDIO CID</td>\n",
       "      <td>3</td>\n",
       "    </tr>\n",
       "    <tr>\n",
       "      <th>9</th>\n",
       "      <td>CRISTIAN MESA</td>\n",
       "      <td>1</td>\n",
       "    </tr>\n",
       "    <tr>\n",
       "      <th>10</th>\n",
       "      <td>CRISTIAN VELIZ</td>\n",
       "      <td>1</td>\n",
       "    </tr>\n",
       "    <tr>\n",
       "      <th>11</th>\n",
       "      <td>DANIEL GONZALEZ</td>\n",
       "      <td>3</td>\n",
       "    </tr>\n",
       "    <tr>\n",
       "      <th>12</th>\n",
       "      <td>DAVID ROMO</td>\n",
       "      <td>1</td>\n",
       "    </tr>\n",
       "    <tr>\n",
       "      <th>13</th>\n",
       "      <td>EDGAR HERNANDEZ</td>\n",
       "      <td>5</td>\n",
       "    </tr>\n",
       "    <tr>\n",
       "      <th>14</th>\n",
       "      <td>EMANUEL MELLADO</td>\n",
       "      <td>5</td>\n",
       "    </tr>\n",
       "    <tr>\n",
       "      <th>15</th>\n",
       "      <td>ERWIN GATICA</td>\n",
       "      <td>9</td>\n",
       "    </tr>\n",
       "    <tr>\n",
       "      <th>16</th>\n",
       "      <td>FERNANDO FUENTEALBA</td>\n",
       "      <td>7</td>\n",
       "    </tr>\n",
       "    <tr>\n",
       "      <th>17</th>\n",
       "      <td>FERNANDO HENRIQUEZ</td>\n",
       "      <td>1</td>\n",
       "    </tr>\n",
       "    <tr>\n",
       "      <th>18</th>\n",
       "      <td>FRANCISCO ACEVEDO</td>\n",
       "      <td>1</td>\n",
       "    </tr>\n",
       "    <tr>\n",
       "      <th>19</th>\n",
       "      <td>FRANCISCO CASTRO</td>\n",
       "      <td>3</td>\n",
       "    </tr>\n",
       "    <tr>\n",
       "      <th>20</th>\n",
       "      <td>FRANCISCO SANCHEZ</td>\n",
       "      <td>10</td>\n",
       "    </tr>\n",
       "    <tr>\n",
       "      <th>21</th>\n",
       "      <td>HECNIMAR URDANETA</td>\n",
       "      <td>1</td>\n",
       "    </tr>\n",
       "    <tr>\n",
       "      <th>22</th>\n",
       "      <td>IGNACIO MEZA</td>\n",
       "      <td>3</td>\n",
       "    </tr>\n",
       "    <tr>\n",
       "      <th>23</th>\n",
       "      <td>JAQUELIN PAVEZ</td>\n",
       "      <td>2</td>\n",
       "    </tr>\n",
       "    <tr>\n",
       "      <th>24</th>\n",
       "      <td>JEAQUELINE PAVEZ</td>\n",
       "      <td>1</td>\n",
       "    </tr>\n",
       "    <tr>\n",
       "      <th>25</th>\n",
       "      <td>JOCELYN ALARCON</td>\n",
       "      <td>1</td>\n",
       "    </tr>\n",
       "    <tr>\n",
       "      <th>26</th>\n",
       "      <td>JONATHAN VERA</td>\n",
       "      <td>1</td>\n",
       "    </tr>\n",
       "    <tr>\n",
       "      <th>27</th>\n",
       "      <td>JORDAN FARIAS</td>\n",
       "      <td>3</td>\n",
       "    </tr>\n",
       "    <tr>\n",
       "      <th>28</th>\n",
       "      <td>JORGE MEZA</td>\n",
       "      <td>7</td>\n",
       "    </tr>\n",
       "    <tr>\n",
       "      <th>29</th>\n",
       "      <td>JOSE CARVALLO</td>\n",
       "      <td>30</td>\n",
       "    </tr>\n",
       "    <tr>\n",
       "      <th>30</th>\n",
       "      <td>JOSELINNE ALARCON</td>\n",
       "      <td>1</td>\n",
       "    </tr>\n",
       "    <tr>\n",
       "      <th>31</th>\n",
       "      <td>JUAN VILLAVICENCIO</td>\n",
       "      <td>2</td>\n",
       "    </tr>\n",
       "    <tr>\n",
       "      <th>32</th>\n",
       "      <td>LUIS BUSTAMANTE</td>\n",
       "      <td>1</td>\n",
       "    </tr>\n",
       "    <tr>\n",
       "      <th>33</th>\n",
       "      <td>LUIS URBINA</td>\n",
       "      <td>7</td>\n",
       "    </tr>\n",
       "    <tr>\n",
       "      <th>34</th>\n",
       "      <td>MARCOS QUINTANILLA</td>\n",
       "      <td>12</td>\n",
       "    </tr>\n",
       "    <tr>\n",
       "      <th>35</th>\n",
       "      <td>MATIAS CASTRO</td>\n",
       "      <td>1</td>\n",
       "    </tr>\n",
       "    <tr>\n",
       "      <th>36</th>\n",
       "      <td>MATIAS PENROZ</td>\n",
       "      <td>1</td>\n",
       "    </tr>\n",
       "    <tr>\n",
       "      <th>37</th>\n",
       "      <td>MAURICIO HERNANDEZ</td>\n",
       "      <td>4</td>\n",
       "    </tr>\n",
       "    <tr>\n",
       "      <th>38</th>\n",
       "      <td>MAXIMO CAMPOS</td>\n",
       "      <td>11</td>\n",
       "    </tr>\n",
       "    <tr>\n",
       "      <th>39</th>\n",
       "      <td>MIGUEL HENRRIQUEZ</td>\n",
       "      <td>7</td>\n",
       "    </tr>\n",
       "    <tr>\n",
       "      <th>40</th>\n",
       "      <td>NELSON PIZARRO</td>\n",
       "      <td>1</td>\n",
       "    </tr>\n",
       "    <tr>\n",
       "      <th>41</th>\n",
       "      <td>NICOLAS ROJAS</td>\n",
       "      <td>3</td>\n",
       "    </tr>\n",
       "    <tr>\n",
       "      <th>42</th>\n",
       "      <td>ORLANDO FARIAS</td>\n",
       "      <td>1</td>\n",
       "    </tr>\n",
       "    <tr>\n",
       "      <th>43</th>\n",
       "      <td>PATRICIO MACIEL</td>\n",
       "      <td>1</td>\n",
       "    </tr>\n",
       "    <tr>\n",
       "      <th>44</th>\n",
       "      <td>PATRICIO PALACIOS</td>\n",
       "      <td>13</td>\n",
       "    </tr>\n",
       "    <tr>\n",
       "      <th>45</th>\n",
       "      <td>PATRICIO PALACIOS</td>\n",
       "      <td>1</td>\n",
       "    </tr>\n",
       "    <tr>\n",
       "      <th>46</th>\n",
       "      <td>RAFAEL ASTORGA</td>\n",
       "      <td>3</td>\n",
       "    </tr>\n",
       "    <tr>\n",
       "      <th>47</th>\n",
       "      <td>RAMIRO RAMIREZ</td>\n",
       "      <td>8</td>\n",
       "    </tr>\n",
       "    <tr>\n",
       "      <th>48</th>\n",
       "      <td>ROBERTO LOYOLA</td>\n",
       "      <td>1</td>\n",
       "    </tr>\n",
       "    <tr>\n",
       "      <th>49</th>\n",
       "      <td>ROLANDO EMIHUEQUE</td>\n",
       "      <td>1</td>\n",
       "    </tr>\n",
       "    <tr>\n",
       "      <th>50</th>\n",
       "      <td>SERGIO AQUEVEQUE</td>\n",
       "      <td>1</td>\n",
       "    </tr>\n",
       "    <tr>\n",
       "      <th>51</th>\n",
       "      <td>SOLEDAD CARRASCO</td>\n",
       "      <td>1</td>\n",
       "    </tr>\n",
       "    <tr>\n",
       "      <th>52</th>\n",
       "      <td>VICTOR GOMEZ</td>\n",
       "      <td>1</td>\n",
       "    </tr>\n",
       "    <tr>\n",
       "      <th>53</th>\n",
       "      <td>VICTORIA MILLANERS</td>\n",
       "      <td>1</td>\n",
       "    </tr>\n",
       "    <tr>\n",
       "      <th>54</th>\n",
       "      <td>YESENIA VALDÉS</td>\n",
       "      <td>1</td>\n",
       "    </tr>\n",
       "  </tbody>\n",
       "</table>\n",
       "</div>"
      ],
      "text/plain": [
       "             SUPERVISOR  cantidad\n",
       "0       ALEJANDRO SALAS         5\n",
       "1      ALEJANDRO TORRES        15\n",
       "2           ALEXIS ARAY         1\n",
       "3           ALEXIS AROS         1\n",
       "4         ALVARO ABARCA         3\n",
       "5         ANTONIO RIVAS         2\n",
       "6          ARNALDO VERA         7\n",
       "7       CESAR CARTAGENA         6\n",
       "8           CLAUDIO CID         3\n",
       "9         CRISTIAN MESA         1\n",
       "10       CRISTIAN VELIZ         1\n",
       "11      DANIEL GONZALEZ         3\n",
       "12           DAVID ROMO         1\n",
       "13      EDGAR HERNANDEZ         5\n",
       "14      EMANUEL MELLADO         5\n",
       "15         ERWIN GATICA         9\n",
       "16  FERNANDO FUENTEALBA         7\n",
       "17   FERNANDO HENRIQUEZ         1\n",
       "18    FRANCISCO ACEVEDO         1\n",
       "19     FRANCISCO CASTRO         3\n",
       "20    FRANCISCO SANCHEZ        10\n",
       "21    HECNIMAR URDANETA         1\n",
       "22         IGNACIO MEZA         3\n",
       "23       JAQUELIN PAVEZ         2\n",
       "24     JEAQUELINE PAVEZ         1\n",
       "25      JOCELYN ALARCON         1\n",
       "26        JONATHAN VERA         1\n",
       "27        JORDAN FARIAS         3\n",
       "28           JORGE MEZA         7\n",
       "29        JOSE CARVALLO        30\n",
       "30    JOSELINNE ALARCON         1\n",
       "31   JUAN VILLAVICENCIO         2\n",
       "32      LUIS BUSTAMANTE         1\n",
       "33          LUIS URBINA         7\n",
       "34   MARCOS QUINTANILLA        12\n",
       "35        MATIAS CASTRO         1\n",
       "36        MATIAS PENROZ         1\n",
       "37   MAURICIO HERNANDEZ         4\n",
       "38        MAXIMO CAMPOS        11\n",
       "39    MIGUEL HENRRIQUEZ         7\n",
       "40       NELSON PIZARRO         1\n",
       "41        NICOLAS ROJAS         3\n",
       "42       ORLANDO FARIAS         1\n",
       "43     PATRICIO MACIEL          1\n",
       "44    PATRICIO PALACIOS        13\n",
       "45   PATRICIO PALACIOS          1\n",
       "46       RAFAEL ASTORGA         3\n",
       "47       RAMIRO RAMIREZ         8\n",
       "48       ROBERTO LOYOLA         1\n",
       "49    ROLANDO EMIHUEQUE         1\n",
       "50     SERGIO AQUEVEQUE         1\n",
       "51     SOLEDAD CARRASCO         1\n",
       "52         VICTOR GOMEZ         1\n",
       "53   VICTORIA MILLANERS         1\n",
       "54       YESENIA VALDÉS         1"
      ]
     },
     "execution_count": 32,
     "metadata": {},
     "output_type": "execute_result"
    }
   ],
   "source": [
    "\n",
    "accidentes_por_supervisor = data.groupby('SUPERVISOR').size().reset_index(name='cantidad')\n",
    "accidentes_por_supervisor\n",
    "\n"
   ]
  },
  {
   "cell_type": "code",
   "execution_count": 33,
   "metadata": {},
   "outputs": [],
   "source": [
    "fig2 = px.pie(accidentes_por_supervisor, values='cantidad', names='SUPERVISOR', title='Accidentes por supervisor')"
   ]
  },
  {
   "cell_type": "code",
   "execution_count": 34,
   "metadata": {},
   "outputs": [
    {
     "data": {
      "application/vnd.plotly.v1+json": {
       "config": {
        "plotlyServerURL": "https://plot.ly"
       },
       "data": [
        {
         "domain": {
          "x": [
           0,
           1
          ],
          "y": [
           0,
           1
          ]
         },
         "hovertemplate": "SUPERVISOR=%{label}<br>cantidad=%{value}<extra></extra>",
         "labels": [
          "ALEJANDRO SALAS",
          "ALEJANDRO TORRES",
          "ALEXIS ARAY",
          "ALEXIS AROS",
          "ALVARO ABARCA",
          "ANTONIO RIVAS",
          "ARNALDO VERA",
          "CESAR CARTAGENA",
          "CLAUDIO CID",
          "CRISTIAN MESA",
          "CRISTIAN VELIZ",
          "DANIEL GONZALEZ",
          "DAVID ROMO",
          "EDGAR HERNANDEZ",
          "EMANUEL MELLADO",
          "ERWIN GATICA",
          "FERNANDO FUENTEALBA",
          "FERNANDO HENRIQUEZ",
          "FRANCISCO ACEVEDO",
          "FRANCISCO CASTRO",
          "FRANCISCO SANCHEZ",
          "HECNIMAR URDANETA",
          "IGNACIO MEZA",
          "JAQUELIN PAVEZ",
          "JEAQUELINE PAVEZ",
          "JOCELYN ALARCON",
          "JONATHAN VERA",
          "JORDAN FARIAS",
          "JORGE MEZA",
          "JOSE CARVALLO",
          "JOSELINNE ALARCON",
          "JUAN VILLAVICENCIO",
          "LUIS BUSTAMANTE",
          "LUIS URBINA",
          "MARCOS QUINTANILLA",
          "MATIAS CASTRO",
          "MATIAS PENROZ",
          "MAURICIO HERNANDEZ",
          "MAXIMO CAMPOS",
          "MIGUEL HENRRIQUEZ",
          "NELSON PIZARRO",
          "NICOLAS ROJAS",
          "ORLANDO FARIAS",
          "PATRICIO MACIEL ",
          "PATRICIO PALACIOS",
          "PATRICIO PALACIOS ",
          "RAFAEL ASTORGA",
          "RAMIRO RAMIREZ",
          "ROBERTO LOYOLA",
          "ROLANDO EMIHUEQUE",
          "SERGIO AQUEVEQUE",
          "SOLEDAD CARRASCO",
          "VICTOR GOMEZ",
          "VICTORIA MILLANERS",
          "YESENIA VALDÉS"
         ],
         "legendgroup": "",
         "name": "",
         "showlegend": true,
         "type": "pie",
         "values": [
          5,
          15,
          1,
          1,
          3,
          2,
          7,
          6,
          3,
          1,
          1,
          3,
          1,
          5,
          5,
          9,
          7,
          1,
          1,
          3,
          10,
          1,
          3,
          2,
          1,
          1,
          1,
          3,
          7,
          30,
          1,
          2,
          1,
          7,
          12,
          1,
          1,
          4,
          11,
          7,
          1,
          3,
          1,
          1,
          13,
          1,
          3,
          8,
          1,
          1,
          1,
          1,
          1,
          1,
          1
         ]
        }
       ],
       "layout": {
        "legend": {
         "tracegroupgap": 0
        },
        "template": {
         "data": {
          "bar": [
           {
            "error_x": {
             "color": "#2a3f5f"
            },
            "error_y": {
             "color": "#2a3f5f"
            },
            "marker": {
             "line": {
              "color": "#E5ECF6",
              "width": 0.5
             },
             "pattern": {
              "fillmode": "overlay",
              "size": 10,
              "solidity": 0.2
             }
            },
            "type": "bar"
           }
          ],
          "barpolar": [
           {
            "marker": {
             "line": {
              "color": "#E5ECF6",
              "width": 0.5
             },
             "pattern": {
              "fillmode": "overlay",
              "size": 10,
              "solidity": 0.2
             }
            },
            "type": "barpolar"
           }
          ],
          "carpet": [
           {
            "aaxis": {
             "endlinecolor": "#2a3f5f",
             "gridcolor": "white",
             "linecolor": "white",
             "minorgridcolor": "white",
             "startlinecolor": "#2a3f5f"
            },
            "baxis": {
             "endlinecolor": "#2a3f5f",
             "gridcolor": "white",
             "linecolor": "white",
             "minorgridcolor": "white",
             "startlinecolor": "#2a3f5f"
            },
            "type": "carpet"
           }
          ],
          "choropleth": [
           {
            "colorbar": {
             "outlinewidth": 0,
             "ticks": ""
            },
            "type": "choropleth"
           }
          ],
          "contour": [
           {
            "colorbar": {
             "outlinewidth": 0,
             "ticks": ""
            },
            "colorscale": [
             [
              0,
              "#0d0887"
             ],
             [
              0.1111111111111111,
              "#46039f"
             ],
             [
              0.2222222222222222,
              "#7201a8"
             ],
             [
              0.3333333333333333,
              "#9c179e"
             ],
             [
              0.4444444444444444,
              "#bd3786"
             ],
             [
              0.5555555555555556,
              "#d8576b"
             ],
             [
              0.6666666666666666,
              "#ed7953"
             ],
             [
              0.7777777777777778,
              "#fb9f3a"
             ],
             [
              0.8888888888888888,
              "#fdca26"
             ],
             [
              1,
              "#f0f921"
             ]
            ],
            "type": "contour"
           }
          ],
          "contourcarpet": [
           {
            "colorbar": {
             "outlinewidth": 0,
             "ticks": ""
            },
            "type": "contourcarpet"
           }
          ],
          "heatmap": [
           {
            "colorbar": {
             "outlinewidth": 0,
             "ticks": ""
            },
            "colorscale": [
             [
              0,
              "#0d0887"
             ],
             [
              0.1111111111111111,
              "#46039f"
             ],
             [
              0.2222222222222222,
              "#7201a8"
             ],
             [
              0.3333333333333333,
              "#9c179e"
             ],
             [
              0.4444444444444444,
              "#bd3786"
             ],
             [
              0.5555555555555556,
              "#d8576b"
             ],
             [
              0.6666666666666666,
              "#ed7953"
             ],
             [
              0.7777777777777778,
              "#fb9f3a"
             ],
             [
              0.8888888888888888,
              "#fdca26"
             ],
             [
              1,
              "#f0f921"
             ]
            ],
            "type": "heatmap"
           }
          ],
          "heatmapgl": [
           {
            "colorbar": {
             "outlinewidth": 0,
             "ticks": ""
            },
            "colorscale": [
             [
              0,
              "#0d0887"
             ],
             [
              0.1111111111111111,
              "#46039f"
             ],
             [
              0.2222222222222222,
              "#7201a8"
             ],
             [
              0.3333333333333333,
              "#9c179e"
             ],
             [
              0.4444444444444444,
              "#bd3786"
             ],
             [
              0.5555555555555556,
              "#d8576b"
             ],
             [
              0.6666666666666666,
              "#ed7953"
             ],
             [
              0.7777777777777778,
              "#fb9f3a"
             ],
             [
              0.8888888888888888,
              "#fdca26"
             ],
             [
              1,
              "#f0f921"
             ]
            ],
            "type": "heatmapgl"
           }
          ],
          "histogram": [
           {
            "marker": {
             "pattern": {
              "fillmode": "overlay",
              "size": 10,
              "solidity": 0.2
             }
            },
            "type": "histogram"
           }
          ],
          "histogram2d": [
           {
            "colorbar": {
             "outlinewidth": 0,
             "ticks": ""
            },
            "colorscale": [
             [
              0,
              "#0d0887"
             ],
             [
              0.1111111111111111,
              "#46039f"
             ],
             [
              0.2222222222222222,
              "#7201a8"
             ],
             [
              0.3333333333333333,
              "#9c179e"
             ],
             [
              0.4444444444444444,
              "#bd3786"
             ],
             [
              0.5555555555555556,
              "#d8576b"
             ],
             [
              0.6666666666666666,
              "#ed7953"
             ],
             [
              0.7777777777777778,
              "#fb9f3a"
             ],
             [
              0.8888888888888888,
              "#fdca26"
             ],
             [
              1,
              "#f0f921"
             ]
            ],
            "type": "histogram2d"
           }
          ],
          "histogram2dcontour": [
           {
            "colorbar": {
             "outlinewidth": 0,
             "ticks": ""
            },
            "colorscale": [
             [
              0,
              "#0d0887"
             ],
             [
              0.1111111111111111,
              "#46039f"
             ],
             [
              0.2222222222222222,
              "#7201a8"
             ],
             [
              0.3333333333333333,
              "#9c179e"
             ],
             [
              0.4444444444444444,
              "#bd3786"
             ],
             [
              0.5555555555555556,
              "#d8576b"
             ],
             [
              0.6666666666666666,
              "#ed7953"
             ],
             [
              0.7777777777777778,
              "#fb9f3a"
             ],
             [
              0.8888888888888888,
              "#fdca26"
             ],
             [
              1,
              "#f0f921"
             ]
            ],
            "type": "histogram2dcontour"
           }
          ],
          "mesh3d": [
           {
            "colorbar": {
             "outlinewidth": 0,
             "ticks": ""
            },
            "type": "mesh3d"
           }
          ],
          "parcoords": [
           {
            "line": {
             "colorbar": {
              "outlinewidth": 0,
              "ticks": ""
             }
            },
            "type": "parcoords"
           }
          ],
          "pie": [
           {
            "automargin": true,
            "type": "pie"
           }
          ],
          "scatter": [
           {
            "fillpattern": {
             "fillmode": "overlay",
             "size": 10,
             "solidity": 0.2
            },
            "type": "scatter"
           }
          ],
          "scatter3d": [
           {
            "line": {
             "colorbar": {
              "outlinewidth": 0,
              "ticks": ""
             }
            },
            "marker": {
             "colorbar": {
              "outlinewidth": 0,
              "ticks": ""
             }
            },
            "type": "scatter3d"
           }
          ],
          "scattercarpet": [
           {
            "marker": {
             "colorbar": {
              "outlinewidth": 0,
              "ticks": ""
             }
            },
            "type": "scattercarpet"
           }
          ],
          "scattergeo": [
           {
            "marker": {
             "colorbar": {
              "outlinewidth": 0,
              "ticks": ""
             }
            },
            "type": "scattergeo"
           }
          ],
          "scattergl": [
           {
            "marker": {
             "colorbar": {
              "outlinewidth": 0,
              "ticks": ""
             }
            },
            "type": "scattergl"
           }
          ],
          "scattermapbox": [
           {
            "marker": {
             "colorbar": {
              "outlinewidth": 0,
              "ticks": ""
             }
            },
            "type": "scattermapbox"
           }
          ],
          "scatterpolar": [
           {
            "marker": {
             "colorbar": {
              "outlinewidth": 0,
              "ticks": ""
             }
            },
            "type": "scatterpolar"
           }
          ],
          "scatterpolargl": [
           {
            "marker": {
             "colorbar": {
              "outlinewidth": 0,
              "ticks": ""
             }
            },
            "type": "scatterpolargl"
           }
          ],
          "scatterternary": [
           {
            "marker": {
             "colorbar": {
              "outlinewidth": 0,
              "ticks": ""
             }
            },
            "type": "scatterternary"
           }
          ],
          "surface": [
           {
            "colorbar": {
             "outlinewidth": 0,
             "ticks": ""
            },
            "colorscale": [
             [
              0,
              "#0d0887"
             ],
             [
              0.1111111111111111,
              "#46039f"
             ],
             [
              0.2222222222222222,
              "#7201a8"
             ],
             [
              0.3333333333333333,
              "#9c179e"
             ],
             [
              0.4444444444444444,
              "#bd3786"
             ],
             [
              0.5555555555555556,
              "#d8576b"
             ],
             [
              0.6666666666666666,
              "#ed7953"
             ],
             [
              0.7777777777777778,
              "#fb9f3a"
             ],
             [
              0.8888888888888888,
              "#fdca26"
             ],
             [
              1,
              "#f0f921"
             ]
            ],
            "type": "surface"
           }
          ],
          "table": [
           {
            "cells": {
             "fill": {
              "color": "#EBF0F8"
             },
             "line": {
              "color": "white"
             }
            },
            "header": {
             "fill": {
              "color": "#C8D4E3"
             },
             "line": {
              "color": "white"
             }
            },
            "type": "table"
           }
          ]
         },
         "layout": {
          "annotationdefaults": {
           "arrowcolor": "#2a3f5f",
           "arrowhead": 0,
           "arrowwidth": 1
          },
          "autotypenumbers": "strict",
          "coloraxis": {
           "colorbar": {
            "outlinewidth": 0,
            "ticks": ""
           }
          },
          "colorscale": {
           "diverging": [
            [
             0,
             "#8e0152"
            ],
            [
             0.1,
             "#c51b7d"
            ],
            [
             0.2,
             "#de77ae"
            ],
            [
             0.3,
             "#f1b6da"
            ],
            [
             0.4,
             "#fde0ef"
            ],
            [
             0.5,
             "#f7f7f7"
            ],
            [
             0.6,
             "#e6f5d0"
            ],
            [
             0.7,
             "#b8e186"
            ],
            [
             0.8,
             "#7fbc41"
            ],
            [
             0.9,
             "#4d9221"
            ],
            [
             1,
             "#276419"
            ]
           ],
           "sequential": [
            [
             0,
             "#0d0887"
            ],
            [
             0.1111111111111111,
             "#46039f"
            ],
            [
             0.2222222222222222,
             "#7201a8"
            ],
            [
             0.3333333333333333,
             "#9c179e"
            ],
            [
             0.4444444444444444,
             "#bd3786"
            ],
            [
             0.5555555555555556,
             "#d8576b"
            ],
            [
             0.6666666666666666,
             "#ed7953"
            ],
            [
             0.7777777777777778,
             "#fb9f3a"
            ],
            [
             0.8888888888888888,
             "#fdca26"
            ],
            [
             1,
             "#f0f921"
            ]
           ],
           "sequentialminus": [
            [
             0,
             "#0d0887"
            ],
            [
             0.1111111111111111,
             "#46039f"
            ],
            [
             0.2222222222222222,
             "#7201a8"
            ],
            [
             0.3333333333333333,
             "#9c179e"
            ],
            [
             0.4444444444444444,
             "#bd3786"
            ],
            [
             0.5555555555555556,
             "#d8576b"
            ],
            [
             0.6666666666666666,
             "#ed7953"
            ],
            [
             0.7777777777777778,
             "#fb9f3a"
            ],
            [
             0.8888888888888888,
             "#fdca26"
            ],
            [
             1,
             "#f0f921"
            ]
           ]
          },
          "colorway": [
           "#636efa",
           "#EF553B",
           "#00cc96",
           "#ab63fa",
           "#FFA15A",
           "#19d3f3",
           "#FF6692",
           "#B6E880",
           "#FF97FF",
           "#FECB52"
          ],
          "font": {
           "color": "#2a3f5f"
          },
          "geo": {
           "bgcolor": "white",
           "lakecolor": "white",
           "landcolor": "#E5ECF6",
           "showlakes": true,
           "showland": true,
           "subunitcolor": "white"
          },
          "hoverlabel": {
           "align": "left"
          },
          "hovermode": "closest",
          "mapbox": {
           "style": "light"
          },
          "paper_bgcolor": "white",
          "plot_bgcolor": "#E5ECF6",
          "polar": {
           "angularaxis": {
            "gridcolor": "white",
            "linecolor": "white",
            "ticks": ""
           },
           "bgcolor": "#E5ECF6",
           "radialaxis": {
            "gridcolor": "white",
            "linecolor": "white",
            "ticks": ""
           }
          },
          "scene": {
           "xaxis": {
            "backgroundcolor": "#E5ECF6",
            "gridcolor": "white",
            "gridwidth": 2,
            "linecolor": "white",
            "showbackground": true,
            "ticks": "",
            "zerolinecolor": "white"
           },
           "yaxis": {
            "backgroundcolor": "#E5ECF6",
            "gridcolor": "white",
            "gridwidth": 2,
            "linecolor": "white",
            "showbackground": true,
            "ticks": "",
            "zerolinecolor": "white"
           },
           "zaxis": {
            "backgroundcolor": "#E5ECF6",
            "gridcolor": "white",
            "gridwidth": 2,
            "linecolor": "white",
            "showbackground": true,
            "ticks": "",
            "zerolinecolor": "white"
           }
          },
          "shapedefaults": {
           "line": {
            "color": "#2a3f5f"
           }
          },
          "ternary": {
           "aaxis": {
            "gridcolor": "white",
            "linecolor": "white",
            "ticks": ""
           },
           "baxis": {
            "gridcolor": "white",
            "linecolor": "white",
            "ticks": ""
           },
           "bgcolor": "#E5ECF6",
           "caxis": {
            "gridcolor": "white",
            "linecolor": "white",
            "ticks": ""
           }
          },
          "title": {
           "x": 0.05
          },
          "xaxis": {
           "automargin": true,
           "gridcolor": "white",
           "linecolor": "white",
           "ticks": "",
           "title": {
            "standoff": 15
           },
           "zerolinecolor": "white",
           "zerolinewidth": 2
          },
          "yaxis": {
           "automargin": true,
           "gridcolor": "white",
           "linecolor": "white",
           "ticks": "",
           "title": {
            "standoff": 15
           },
           "zerolinecolor": "white",
           "zerolinewidth": 2
          }
         }
        },
        "title": {
         "text": "Accidentes por supervisor"
        }
       }
      }
     },
     "metadata": {},
     "output_type": "display_data"
    }
   ],
   "source": [
    "fig2"
   ]
  },
  {
   "cell_type": "code",
   "execution_count": null,
   "metadata": {},
   "outputs": [],
   "source": []
  }
 ],
 "metadata": {
  "kernelspec": {
   "display_name": "Python 3",
   "language": "python",
   "name": "python3"
  },
  "language_info": {
   "codemirror_mode": {
    "name": "ipython",
    "version": 3
   },
   "file_extension": ".py",
   "mimetype": "text/x-python",
   "name": "python",
   "nbconvert_exporter": "python",
   "pygments_lexer": "ipython3",
   "version": "3.9.13"
  }
 },
 "nbformat": 4,
 "nbformat_minor": 2
}
