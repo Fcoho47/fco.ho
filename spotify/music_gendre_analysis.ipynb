{
 "cells": [
  {
   "cell_type": "code",
   "execution_count": 2,
   "metadata": {},
   "outputs": [],
   "source": [
    "import spotipy\n",
    "from spotipy.oauth2 import SpotifyClientCredentials"
   ]
  },
  {
   "cell_type": "code",
   "execution_count": 3,
   "metadata": {},
   "outputs": [],
   "source": [
    "#Authentication - without user\n",
    "\n",
    "cid = '7379af8fba5e4575afbd0c9f0bd4a344'\n",
    "secret = '478de4b14e024eb781732d4ddf351675'\n",
    "client_credentials_manager = SpotifyClientCredentials(client_id=cid, client_secret=secret)\n",
    "sp = spotipy.Spotify(client_credentials_manager = client_credentials_manager)\n",
    "\n",
    "playlist_link = \"https://open.spotify.com/playlist/37i9dQZEVXbNG2KDcFcKOF?si=1333723a6eff4b7f\"\n",
    "playlist_URI = playlist_link.split(\"/\")[-1].split(\"?\")[0]\n",
    "\n",
    "track_uris = [x[\"track\"][\"uri\"] for x in sp.playlist_tracks(playlist_URI)[\"items\"]]"
   ]
  },
  {
   "cell_type": "code",
   "execution_count": 4,
   "metadata": {},
   "outputs": [],
   "source": [
    "tracks = []\n",
    "\n",
    "for track in sp.playlist_tracks(playlist_URI)[\"items\"]:\n",
    "    #URI\n",
    "    track_uri = track[\"track\"][\"uri\"]\n",
    "    \n",
    "    #Track name\n",
    "    track_name = track[\"track\"][\"name\"]\n",
    "    \n",
    "    #Main Artist\n",
    "    artist_uri = track[\"track\"][\"artists\"][0][\"uri\"]\n",
    "    artist_info = sp.artist(artist_uri)\n",
    "    \n",
    "    #Name, popularity, genre\n",
    "    artist_name = track[\"track\"][\"artists\"][0][\"name\"]\n",
    "    artist_pop = artist_info[\"popularity\"]\n",
    "    artist_genres = artist_info[\"genres\"]\n",
    "    \n",
    "    #Album\n",
    "    album = track[\"track\"][\"album\"][\"name\"]\n",
    "    \n",
    "    #Popularity of the track\n",
    "    track_pop = track[\"track\"][\"popularity\"]\n",
    "\n",
    "    #Release date\n",
    "    release_date = track[\"track\"][\"album\"][\"release_date\"]\n",
    "\n",
    "    tracks.append((track_uri, track_name, artist_name, artist_pop, artist_genres, album, track_pop, release_date))"
   ]
  },
  {
   "cell_type": "code",
   "execution_count": 37,
   "metadata": {},
   "outputs": [],
   "source": [
    "#Take every genre from every track and put it in a list\n",
    "genres = []\n",
    "for track in tracks:\n",
    "    genres.append(track[4])\n",
    "\n",
    "#Split every subgenre in every genre and put it in a list\n",
    "genres_list = []\n",
    "for genre in genres:\n",
    "    for word in genre:\n",
    "        genres_list.append(word)\n",
    "\n",
    "#Split every subgenre in every genre and put it in a list\n",
    "subgenre_list = []\n",
    "for genre in genres_list:\n",
    "    L = genre.split()\n",
    "    for word in L:\n",
    "        subgenre_list.append(word)\n",
    "\n",
    "unique_words = list(set(subgenre_list))\n"
   ]
  },
  {
   "cell_type": "code",
   "execution_count": 84,
   "metadata": {},
   "outputs": [],
   "source": [
    "word_list = subgenre_list\n",
    "word_count = {}\n",
    "for word in word_list:\n",
    "    if word in word_count:\n",
    "        word_count[word] += 1\n",
    "    else:\n",
    "        word_count[word] = 1\n"
   ]
  },
  {
   "cell_type": "code",
   "execution_count": 85,
   "metadata": {},
   "outputs": [
    {
     "name": "stdout",
     "output_type": "stream",
     "text": [
      "Diccionario ordenado por valor (ascendente):\n",
      "alt: 1\n",
      "deep: 1\n",
      "kentucky: 1\n",
      "brooklyn: 1\n",
      "colombian: 1\n",
      "garage: 1\n",
      "permanent: 1\n",
      "sheffield: 1\n",
      "art: 1\n",
      "gen: 1\n",
      "folk-pop: 1\n",
      "europop: 1\n",
      "new: 1\n",
      "latin: 1\n",
      "classic: 1\n",
      "oklahoma: 1\n",
      "country: 1\n",
      "folk: 1\n",
      "stomp: 1\n",
      "and: 1\n",
      "holler: 1\n",
      "alternative: 1\n",
      "j-division: 1\n",
      "korean: 1\n",
      "ost: 1\n",
      "z: 2\n",
      "underground: 2\n",
      "wave: 2\n",
      "corrido: 2\n",
      "uk: 2\n",
      "pov:: 3\n",
      "k-pop: 3\n",
      "colombiano: 3\n",
      "singer-songwriter: 3\n",
      "hip: 4\n",
      "hop: 4\n",
      "corridos: 4\n",
      "tumbados: 4\n",
      "modern: 4\n",
      "contemporary: 5\n",
      "dance: 5\n",
      "sad: 6\n",
      "rap: 6\n",
      "indie: 6\n",
      "trap: 6\n",
      "urbano: 6\n",
      "rock: 6\n",
      "r&b: 7\n",
      "sierreno: 8\n",
      "canadian: 10\n",
      "reggaeton: 10\n",
      "latino: 12\n",
      "pop: 40\n"
     ]
    }
   ],
   "source": [
    "sorted_word_count = dict(sorted(word_count.items(), key=lambda x: x[1]))\n",
    "\n",
    "print(\"Diccionario ordenado por valor (ascendente):\")\n",
    "for word, count in sorted_word_count.items():\n",
    "    print(f\"{word}: {count}\")"
   ]
  },
  {
   "cell_type": "code",
   "execution_count": 86,
   "metadata": {},
   "outputs": [],
   "source": [
    "\n",
    "genre_list = []\n",
    "count_list = []\n",
    "\n",
    "for word, count in sorted_word_count.items():\n",
    "    genre_list.append(word)\n",
    "    count_list.append(count)\n",
    "\n",
    "count_list.reverse()\n",
    "genre_list.reverse()"
   ]
  },
  {
   "cell_type": "code",
   "execution_count": 87,
   "metadata": {},
   "outputs": [],
   "source": [
    "import matplotlib.pyplot as plt"
   ]
  },
  {
   "cell_type": "code",
   "execution_count": 88,
   "metadata": {},
   "outputs": [
    {
     "data": {
      "text/plain": [
       "([0, 1, 2, 3, 4, 5, 6, 7, 8, 9],\n",
       " [Text(0, 0, 'pop'),\n",
       "  Text(1, 0, 'latino'),\n",
       "  Text(2, 0, 'reggaeton'),\n",
       "  Text(3, 0, 'canadian'),\n",
       "  Text(4, 0, 'sierreno'),\n",
       "  Text(5, 0, 'r&b'),\n",
       "  Text(6, 0, 'rock'),\n",
       "  Text(7, 0, 'urbano'),\n",
       "  Text(8, 0, 'trap'),\n",
       "  Text(9, 0, 'indie')])"
      ]
     },
     "execution_count": 88,
     "metadata": {},
     "output_type": "execute_result"
    },
    {
     "data": {
      "image/png": "[encoded data removed]",
      "text/plain": [
       "<Figure size 640x480 with 1 Axes>"
      ]
     },
     "metadata": {},
     "output_type": "display_data"
    }
   ],
   "source": [
    "#Make a bar chart with the 10 most common genres\n",
    "plt.bar(genre_list[:10], count_list[:10])\n",
    "plt.xticks(rotation='vertical')"
   ]
  }
 ],
 "metadata": {
  "kernelspec": {
   "display_name": "Python 3",
   "language": "python",
   "name": "python3"
  },
  "language_info": {
   "codemirror_mode": {
    "name": "ipython",
    "version": 3
   },
   "file_extension": ".py",
   "mimetype": "text/x-python",
   "name": "python",
   "nbconvert_exporter": "python",
   "pygments_lexer": "ipython3",
   "version": "3.9.13"
  }
 },
 "nbformat": 4,
 "nbformat_minor": 2
}
