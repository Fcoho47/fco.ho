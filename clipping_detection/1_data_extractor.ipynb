{
 "cells": [
  {
   "cell_type": "code",
   "execution_count": 34,
   "metadata": {},
   "outputs": [],
   "source": [
    "import pandas as pd\n",
    "import numpy as np\n",
    "import os\n",
    "import matplotlib.pyplot as plt\n",
    "import csv\n",
    "import pickle\n",
    "from IPython.display import display\n",
    "\n",
    "from sklearn.preprocessing import StandardScaler\n",
    "from sklearn.ensemble import RandomForestClassifier\n",
    "from sklearn.model_selection import train_test_split\n",
    "from sklearn.metrics import accuracy_score"
   ]
  },
  {
   "cell_type": "markdown",
   "metadata": {},
   "source": [
    "Loading data from .csv"
   ]
  },
  {
   "cell_type": "code",
   "execution_count": 4,
   "metadata": {},
   "outputs": [],
   "source": [
    "#Plants data loading and creation of a list with DataFrames\n",
    "\n",
    "directory_path = \"dataset/\"\n",
    "\n",
    "files_names = [file for file in os.listdir(directory_path)]\n",
    "\n",
    "#remove the extension from the file names\n",
    "names = []\n",
    "for i in files_names:\n",
    "    names.append(i[:-4])\n",
    "\n",
    "#load the data into a list of DataFrames with number of the plant, generation, poa and clipping\n",
    "df_list = []\n",
    "\n",
    "for name, j in zip(files_names, names):\n",
    "    df_list.append(pd.read_csv(directory_path + name, encoding = 'latin1'))"
   ]
  },
  {
   "cell_type": "code",
   "execution_count": 6,
   "metadata": {},
   "outputs": [
    {
     "data": {
      "text/html": [
       "<div>\n",
       "<style scoped>\n",
       "    .dataframe tbody tr th:only-of-type {\n",
       "        vertical-align: middle;\n",
       "    }\n",
       "\n",
       "    .dataframe tbody tr th {\n",
       "        vertical-align: top;\n",
       "    }\n",
       "\n",
       "    .dataframe thead th {\n",
       "        text-align: right;\n",
       "    }\n",
       "</style>\n",
       "<table border=\"1\" class=\"dataframe\">\n",
       "  <thead>\n",
       "    <tr style=\"text-align: right;\">\n",
       "      <th></th>\n",
       "      <th>muestra</th>\n",
       "      <th>generacion</th>\n",
       "      <th>poa</th>\n",
       "      <th>clipping</th>\n",
       "    </tr>\n",
       "  </thead>\n",
       "  <tbody>\n",
       "    <tr>\n",
       "      <th>0</th>\n",
       "      <td>0</td>\n",
       "      <td>0.0</td>\n",
       "      <td>0.0</td>\n",
       "      <td>0</td>\n",
       "    </tr>\n",
       "    <tr>\n",
       "      <th>1</th>\n",
       "      <td>0</td>\n",
       "      <td>0.0</td>\n",
       "      <td>0.0</td>\n",
       "      <td>0</td>\n",
       "    </tr>\n",
       "    <tr>\n",
       "      <th>2</th>\n",
       "      <td>0</td>\n",
       "      <td>0.0</td>\n",
       "      <td>0.0</td>\n",
       "      <td>0</td>\n",
       "    </tr>\n",
       "    <tr>\n",
       "      <th>3</th>\n",
       "      <td>0</td>\n",
       "      <td>0.0</td>\n",
       "      <td>0.0</td>\n",
       "      <td>0</td>\n",
       "    </tr>\n",
       "    <tr>\n",
       "      <th>4</th>\n",
       "      <td>0</td>\n",
       "      <td>0.0</td>\n",
       "      <td>0.0</td>\n",
       "      <td>0</td>\n",
       "    </tr>\n",
       "  </tbody>\n",
       "</table>\n",
       "</div>"
      ],
      "text/plain": [
       "   muestra  generacion  poa  clipping\n",
       "0        0         0.0  0.0         0\n",
       "1        0         0.0  0.0         0\n",
       "2        0         0.0  0.0         0\n",
       "3        0         0.0  0.0         0\n",
       "4        0         0.0  0.0         0"
      ]
     },
     "execution_count": 6,
     "metadata": {},
     "output_type": "execute_result"
    }
   ],
   "source": [
    "df_list[1].head()"
   ]
  },
  {
   "cell_type": "markdown",
   "metadata": {},
   "source": [
    "Useful functions"
   ]
  },
  {
   "cell_type": "code",
   "execution_count": 44,
   "metadata": {},
   "outputs": [],
   "source": [
    "def extract_samples(dataframe, cutting = 1):\n",
    "    '''function to extract the generation vectors for each dataframe\n",
    "    \n",
    "    Args:\n",
    "    dataframe: pandas DataFrame\n",
    "    cutting: int, optional, default 1. Number of times to cut the vector\n",
    "\n",
    "    Returns:\n",
    "    samples: list, normalized vectors\n",
    "    labels: list, clipping labels\n",
    "    vectors: list, not normalized vectors\n",
    "    '''\n",
    "\n",
    "    values = dataframe[\"muestra\"].unique()\n",
    "    samples, labels, vectors = [], [], []\n",
    "\n",
    "    for i in values:\n",
    "        l_df = dataframe[dataframe[\"muestra\"] == i]\n",
    "        if np.isnan(l_df[\"generacion\"].values).any() == True:\n",
    "            continue\n",
    "\n",
    "        v_gen = l_df[\"generacion\"].values\n",
    "        v_clip = l_df[\"clipping\"].values\n",
    "        v_poa = l_df[\"poa\"].values\n",
    "\n",
    "        #Remove negative values\n",
    "        v_gen = [0 if x < 0 else x for x in v_gen]\n",
    "        v_poa = [0 if x < 0 else x for x in v_poa]\n",
    "\n",
    "        maximo = max( max(v_gen), max(v_poa))\n",
    "\n",
    "        #Take out the first and last 4 values (it corresponde to the first 6 hrs amd the last 2 hrs of the day)\n",
    "        for i in range(cutting):\n",
    "            v_gen = v_gen[12:-4]\n",
    "            v_clip = v_clip[12:-4]\n",
    "            v_poa = v_poa[12:-4]\n",
    "\n",
    "        #TO DO: make shure that this part of the code it's necessary\n",
    "        if np.isnan(v_gen).any() == True:\n",
    "            continue\n",
    "        if np.isnan(v_poa).any() == True:\n",
    "            continue\n",
    "\n",
    "        # Vectors not normalized\n",
    "        vectors.append([v_poa, v_gen])   \n",
    "\n",
    "        # Vectors normalized\n",
    "        v_gen = v_gen/maximo\n",
    "        v_poa = v_poa/maximo\n",
    "        samples.append([v_poa, v_gen])\n",
    "\n",
    "        labels.append(v_clip)\n",
    "\n",
    "    return samples, labels, vectors\n",
    "\n",
    "\n",
    "def error_threshold(predicted_label, test_label, error_tolerance):\n",
    "    '''Function to obtain predicted vectors with a certain amount of errors\n",
    "    \n",
    "    Args:\n",
    "    predicted_label: list, predicted label\n",
    "    test_label: list, true labels\n",
    "    error_tolerance: int, number of errors allowed\n",
    "    '''\n",
    "\n",
    "    error = []\n",
    "    error_vector = []\n",
    "\n",
    "    for i,j in zip(predicted_label, test_label):\n",
    "        if (i != j).any():\n",
    "            error.append([i,j])\n",
    "\n",
    "        if list(i == j).count(False) == error_tolerance:\n",
    "            error_vector.append([i, j])\n",
    "    \n",
    "    return error, error_vector\n",
    "\n",
    "def example_plot(curves, n):\n",
    "    '''Function to plot the generation and poa curves\n",
    "    \n",
    "    Args:\n",
    "    curves: list, list of curves\n",
    "    n: int, number of the curve to plot\n",
    "    '''\n",
    "    plt.title(\"Generated and teorical vectors example\")\n",
    "    plt.plot(curves[n][0])\n",
    "    plt.plot(curves[n][1])\n",
    "    plt.legend([\"Teorical\", \"Generation\"])\n",
    "    plt.xlabel(\"Time\")\n",
    "    plt.ylabel(\"Normalized generation\")\n"
   ]
  },
  {
   "cell_type": "markdown",
   "metadata": {},
   "source": [
    "Creación de dataset y vectores de entrenamiento y test"
   ]
  },
  {
   "cell_type": "code",
   "execution_count": 21,
   "metadata": {},
   "outputs": [],
   "source": [
    "n_vectores = []\n",
    "label = []\n",
    "vectores = []\n",
    "\n",
    "for d_frame in df_list:\n",
    "    result = extract_samples(d_frame, cutting = 1)\n",
    "    for i, j,k in zip(result[0], result[1], result[2]):\n",
    "        n_vectores.append(i)\n",
    "        label.append(j)\n",
    "        vectores.append(k)"
   ]
  },
  {
   "cell_type": "markdown",
   "metadata": {},
   "source": [
    "How it looks a vector"
   ]
  },
  {
   "cell_type": "code",
   "execution_count": 46,
   "metadata": {},
   "outputs": [
    {
     "data": {
      "image/png": "[encoded data removed]",
      "text/plain": [
       "<Figure size 640x480 with 1 Axes>"
      ]
     },
     "metadata": {},
     "output_type": "display_data"
    }
   ],
   "source": [
    "example_plot(n_vectores, 100)"
   ]
  },
  {
   "cell_type": "code",
   "execution_count": 47,
   "metadata": {},
   "outputs": [],
   "source": [
    "# Save the variables in a pkl file\n",
    "\n",
    "with open(\"data/variables.pkl\", \"wb\") as archivo:\n",
    "    pickle.dump((n_vectores, label, vectores), archivo)"
   ]
  },
  {
   "cell_type": "code",
   "execution_count": 54,
   "metadata": {},
   "outputs": [],
   "source": [
    "x_train, x_test, y_train, y_test = train_test_split(n_vectores, label, test_size=0.3, random_state=0)\n",
    "x_train_flat = np.array([np.concatenate(x) for x in x_train])\n",
    "x_test_flat = np.array([np.concatenate(x) for x in x_test])"
   ]
  },
  {
   "cell_type": "code",
   "execution_count": null,
   "metadata": {},
   "outputs": [],
   "source": []
  },
  {
   "cell_type": "code",
   "execution_count": null,
   "metadata": {},
   "outputs": [],
   "source": []
  }
 ],
 "metadata": {
  "kernelspec": {
   "display_name": "Python 3",
   "language": "python",
   "name": "python3"
  },
  "language_info": {
   "codemirror_mode": {
    "name": "ipython",
    "version": 3
   },
   "file_extension": ".py",
   "mimetype": "text/x-python",
   "name": "python",
   "nbconvert_exporter": "python",
   "pygments_lexer": "ipython3",
   "version": "3.9.13"
  },
  "orig_nbformat": 4
 },
 "nbformat": 4,
 "nbformat_minor": 2
}
