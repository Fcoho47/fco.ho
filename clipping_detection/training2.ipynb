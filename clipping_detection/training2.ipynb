{
 "cells": [
  {
   "cell_type": "code",
   "execution_count": 2,
   "metadata": {},
   "outputs": [],
   "source": [
    "import pandas as pd\n",
    "import numpy as np\n",
    "import os\n",
    "import matplotlib.pyplot as plt\n",
    "import csv\n",
    "import joblib\n",
    "\n",
    "from sklearn.pipeline import Pipeline\n",
    "from sklearn.model_selection import train_test_split\n",
    "from sklearn.metrics import accuracy_score\n",
    "from sklearn.preprocessing import StandardScaler\n",
    "\n",
    "from sklearn.ensemble import RandomForestClassifier\n",
    "from sklearn import metrics\n",
    "from sklearn.model_selection import RandomizedSearchCV"
   ]
  },
  {
   "cell_type": "markdown",
   "metadata": {},
   "source": [
    "Lectura de datos desde .csv"
   ]
  },
  {
   "cell_type": "code",
   "execution_count": 3,
   "metadata": {},
   "outputs": [],
   "source": [
    "#Lectura de plantas y creación de lista con DataFrames\n",
    "\n",
    "directory_path = \"C:\\\\Users\\\\franc\\\\OneDrive\\\\Documentos\\\\VScode\\\\Github\\\\Franico-proyecto\\\\dataset\\\\\"\n",
    "\n",
    "files_names = [file for file in os.listdir(directory_path)]\n",
    "\n",
    "df_list = []\n",
    "\n",
    "for name in files_names:\n",
    "    df_list.append(pd.read_csv(directory_path + name))"
   ]
  },
  {
   "cell_type": "markdown",
   "metadata": {},
   "source": [
    "Funciones útiles a utilizar"
   ]
  },
  {
   "cell_type": "code",
   "execution_count": 9,
   "metadata": {},
   "outputs": [],
   "source": [
    "#Funciones a utilizar\n",
    "\n",
    "def extract_samples(dataframe, cutting = 0, test = False):\n",
    "    '''Función para extraer los vectores de generación para cada dataframe'''\n",
    "\n",
    "    values = dataframe[\"muestra\"].unique()\n",
    "    samples, labels, poa = [], [], []\n",
    "    scaler = StandardScaler()\n",
    "\n",
    "    for i in values:\n",
    "        l_df = dataframe[dataframe[\"muestra\"] == i]\n",
    "        if np.isnan(l_df[\"generacion\"].values).any() == True:\n",
    "            continue\n",
    "\n",
    "        #Cortar valores (test)\n",
    "        v_gen = l_df[\"generacion\"].values\n",
    "        v_clip = l_df[\"clipping\"].values\n",
    "        v_poa = l_df[\"poa\"].values\n",
    "\n",
    "        #### Debo arreglar esto (eficiencia) ####\n",
    "        for i in range(cutting):\n",
    "            v_gen = v_gen[4:-2]\n",
    "            v_clip = v_clip[4:-2]\n",
    "            v_poa = v_poa[4:-2]\n",
    "\n",
    "        if test == True:\n",
    "            dif = np.array(v_gen) - np.array(v_poa)\n",
    "            normalized_gen = scaler.fit_transform(dif.reshape(-1, 1))\n",
    "            matriz = normalized_gen\n",
    "        \n",
    "        else:\n",
    "            normalized_gen = scaler.fit_transform(np.array(v_gen).reshape(-1, 1))\n",
    "            normalized_poa = scaler.fit_transform(np.array(v_poa).reshape(-1, 1))\n",
    "            matriz = np.array([normalized_gen, normalized_poa])\n",
    "            matriz = matriz.T\n",
    "\n",
    "        samples.append(matriz)\n",
    "        labels.append(v_clip)\n",
    "    return samples, labels\n",
    "\n",
    "\n",
    "def error_threshold(predict_vector, test_label, error_tolerance):\n",
    "    '''Función para obtener vectores predichos con cierta cantidad de errores'''\n",
    "\n",
    "    error = []\n",
    "    error_vector = []\n",
    "\n",
    "    for i,j in zip(predict_vector, test_label):\n",
    "        if (i != j).any():\n",
    "            error.append([i,j])\n",
    "\n",
    "        if list(i == j).count(False) == error_tolerance:\n",
    "            error_vector.append([i, j])\n",
    "    \n",
    "    return error, error_vector"
   ]
  },
  {
   "cell_type": "markdown",
   "metadata": {},
   "source": [
    "Creación de dataset y vectores de entrenamiento y test"
   ]
  },
  {
   "cell_type": "code",
   "execution_count": 10,
   "metadata": {},
   "outputs": [],
   "source": [
    "\n",
    "generation = []\n",
    "label = []\n",
    "\n",
    "for d_frame in df_list:\n",
    "    result = extract_samples(d_frame, cutting = 1)\n",
    "    for i, j in zip(result[0], result[1]):\n",
    "        generation.append(i)\n",
    "        label.append(j)\n",
    "\n",
    "x_train, x_test, y_train, y_test = train_test_split(generation, label, test_size=0.3, random_state=0)"
   ]
  },
  {
   "cell_type": "code",
   "execution_count": 12,
   "metadata": {},
   "outputs": [],
   "source": [
    "x_train_flat = np.array([x.flatten() for x in x_train])\n",
    "x_test_flat = np.array([x.flatten() for x in x_test])"
   ]
  },
  {
   "cell_type": "code",
   "execution_count": 77,
   "metadata": {},
   "outputs": [
    {
     "name": "stdout",
     "output_type": "stream",
     "text": [
      "0.7294523879000098\n",
      "\n",
      "total de predicciones: 20562\n",
      "Total de vector con 1 error: 4288\n",
      "Total de vector con 2 error: 1058\n",
      "\n",
      "Precision con 1 error: 0.9379924131893784\n",
      "Precision con 2 error: 0.9894465518918393\n"
     ]
    }
   ],
   "source": [
    "modelo = RandomForestClassifier(n_estimators = 150, min_samples_split = 2, min_samples_leaf = 2, max_depth = 25, bootstrap = False)\n",
    "vector = [i[:18] for i in x_train_flat]\n",
    "vector_test = [i[:18] for i in x_test_flat]\n",
    "modelo = modelo.fit(vector, y_train)\n",
    "prediccion = modelo.predict(vector_test)\n",
    "\n",
    "print(accuracy_score(prediccion, y_test))\n",
    "print(\"\")\n",
    "\n",
    "lista1 = error_threshold(prediccion, y_test, 1)\n",
    "lista2 = error_threshold(prediccion, y_test, 2)\n",
    "prediccion = modelo.predict(vector_test)\n",
    "pre = accuracy_score(prediccion, y_test)\n",
    "\n",
    "print(\"total de predicciones:\", len(x_test))\n",
    "print(\"Total de vector con 1 error:\", len(lista1[1]))\n",
    "print(\"Total de vector con 2 error:\", len(lista2[1]))\n",
    "print(\"\")\n",
    "\n",
    "print(\"Precision con 1 error:\", (len(lista1[1]) + pre*len(x_test))/len(x_test))\n",
    "print(\"Precision con 2 error:\", (len(lista1[1]) + len(lista2[1]) + pre*len(x_test))/len(x_test))"
   ]
  },
  {
   "cell_type": "code",
   "execution_count": 74,
   "metadata": {},
   "outputs": [
    {
     "data": {
      "text/plain": [
       "[1, 2, 3, 4]"
      ]
     },
     "execution_count": 74,
     "metadata": {},
     "output_type": "execute_result"
    }
   ],
   "source": [
    "a = [1,2,3,4,5]\n",
    "\n",
    "a[:4]"
   ]
  },
  {
   "cell_type": "code",
   "execution_count": 57,
   "metadata": {},
   "outputs": [
    {
     "name": "stdout",
     "output_type": "stream",
     "text": [
      "Accuracy: 0.6521009629413481\n",
      "Sobreajuste: 0.9776772687481763\n",
      "Accuracy: 0.6701196381674934\n",
      "Sobreajuste: 0.9944557922381091\n",
      "Accuracy: 0.6746060694484972\n",
      "Sobreajuste: 0.9978358136368057\n",
      "Accuracy: 0.6807703530784943\n",
      "Sobreajuste: 0.9988327983659178\n",
      "Accuracy: 0.6842354829296761\n",
      "Sobreajuste: 0.9996838828907694\n",
      "Accuracy: 0.6869711117595565\n",
      "Sobreajuste: 0.9999270498978698\n",
      "Accuracy: 0.6906186168660636\n",
      "Sobreajuste: 1.0\n",
      "Accuracy: 0.689779690691567\n",
      "Sobreajuste: 1.0\n"
     ]
    }
   ],
   "source": [
    "#Entrenamiento del modelo\n",
    "\n",
    "depth = [10, 20, 30, 40, 50, 100, 300, 500]\n",
    "\n",
    "for i in depth:\n",
    "    modelo = RandomForestClassifier(n_estimators = i)\n",
    "    modelo = modelo.fit(x_train, y_train)\n",
    "    prediccion = modelo.predict(x_test)\n",
    "    print(\"Accuracy:\", accuracy_score(prediccion, y_test))\n",
    "    prediccion = modelo.predict(x_train)\n",
    "    print(\"Sobreajuste:\", accuracy_score(prediccion, y_train))\n"
   ]
  },
  {
   "cell_type": "code",
   "execution_count": 66,
   "metadata": {},
   "outputs": [],
   "source": [
    "modelo = RandomForestClassifier()\n",
    "param_dist = {\n",
    "    'n_estimators': np.arange(10, 310, 20),\n",
    "    'max_depth': [None] + list(np.arange(5, 30, 5)),\n",
    "    'min_samples_split': np.arange(2, 11),\n",
    "    'min_samples_leaf': np.arange(1, 11),\n",
    "    'bootstrap': [True, False]}\n",
    "\n",
    "random_search = RandomizedSearchCV(modelo, param_distributions=param_dist, n_iter=100, cv=5, n_jobs=-1)\n",
    "random_search.fit(x_train_flat, y_train)\n",
    "\n",
    "# Obtiene los mejores hiperparámetros\n",
    "best_params = random_search.best_params_\n"
   ]
  },
  {
   "cell_type": "code",
   "execution_count": 69,
   "metadata": {},
   "outputs": [
    {
     "data": {
      "text/plain": [
       "{'n_estimators': 150,\n",
       " 'min_samples_split': 2,\n",
       " 'min_samples_leaf': 2,\n",
       " 'max_depth': 25,\n",
       " 'bootstrap': False}"
      ]
     },
     "execution_count": 69,
     "metadata": {},
     "output_type": "execute_result"
    }
   ],
   "source": [
    "best_params"
   ]
  },
  {
   "cell_type": "code",
   "execution_count": 78,
   "metadata": {},
   "outputs": [
    {
     "data": {
      "text/plain": [
       "['RF_clipping.joblib']"
      ]
     },
     "execution_count": 78,
     "metadata": {},
     "output_type": "execute_result"
    }
   ],
   "source": [
    "joblib.dump(modelo, 'RF_clipping.joblib')"
   ]
  },
  {
   "cell_type": "markdown",
   "metadata": {},
   "source": [
    "Código para visualizar los puntos de clipping"
   ]
  },
  {
   "cell_type": "code",
   "execution_count": 15,
   "metadata": {},
   "outputs": [
    {
     "data": {
      "image/png": "[encoded data removed]",
      "text/plain": [
       "<Figure size 640x480 with 1 Axes>"
      ]
     },
     "metadata": {},
     "output_type": "display_data"
    }
   ],
   "source": [
    "n = 200\n",
    "plt.plot(x_test[n])\n",
    "for indice, elemento in enumerate(y_test[n]):\n",
    "    if elemento == 1:\n",
    "        plt.plot(indice, x_test[n][indice], '*')\n"
   ]
  },
  {
   "cell_type": "markdown",
   "metadata": {},
   "source": [
    "Redes Neuronales"
   ]
  },
  {
   "cell_type": "code",
   "execution_count": 61,
   "metadata": {},
   "outputs": [],
   "source": [
    "import tensorflow as tf\n",
    "import numpy as np\n",
    "import tensorflow.keras as keras\n",
    "import matplotlib.pyplot as plt\n",
    "import pandas as pd\n",
    "import os\n",
    "import csv\n",
    "\n",
    "from tensorflow.keras.layers import Input, Conv2D, MaxPooling2D, UpSampling2D, Dense\n",
    "from tensorflow.keras.models import Model\n",
    "from tensorflow.keras import datasets, layers, models\n",
    "from sklearn.model_selection import train_test_split\n",
    "from keras.layers import Input, Dense, Dropout\n",
    "from keras.models import Model\n",
    "from keras.regularizers import l2\n",
    "from keras.initializers import he_normal\n",
    "from keras.optimizers import Adam\n",
    "nadam_optimizer = Nadam(learning_rate=0.002)"
   ]
  },
  {
   "cell_type": "code",
   "execution_count": 64,
   "metadata": {},
   "outputs": [
    {
     "name": "stdout",
     "output_type": "stream",
     "text": [
      "Model: \"model_13\"\n",
      "_________________________________________________________________\n",
      " Layer (type)                Output Shape              Param #   \n",
      "=================================================================\n",
      " input_14 (InputLayer)       [(None, 36)]              0         \n",
      "                                                                 \n",
      " dense_36 (Dense)            (None, 16)                592       \n",
      "                                                                 \n",
      " dense_37 (Dense)            (None, 18)                306       \n",
      "                                                                 \n",
      "=================================================================\n",
      "Total params: 898 (3.51 KB)\n",
      "Trainable params: 898 (3.51 KB)\n",
      "Non-trainable params: 0 (0.00 Byte)\n",
      "_________________________________________________________________\n"
     ]
    }
   ],
   "source": [
    "# Crear una capa de entrada\n",
    "optimizer = Adam(learning_rate = 0.1)\n",
    "input_layer = Input(shape=(36,))\n",
    "\n",
    "hidden_layer = Dense(16, activation='relu', kernel_initializer=he_normal)(input_layer)\n",
    "#hidden_layer = Dense(36, activation='relu', kernel_initializer=he_normal)(hidden_layer)\n",
    "#hidden_layer = Dense(36, activation='relu', kernel_initializer=he_normal)(hidden_layer)\n",
    "#regularized_layer = Dense(32, activation='relu', kernel_regularizer=l2(0.01))(hidden_layer)\n",
    "#dropout_layer = Dropout(0.5)(regularized_layer)\n",
    "#output_layer = Dense(24, activation='softmax')(dropout_layer)\n",
    "output_layer = Dense(18, activation='softmax')(hidden_layer)\n",
    "\n",
    "# Crear el modelo de red neuronal\n",
    "model = Model(inputs=input_layer, outputs=output_layer)\n",
    "\n",
    "# Compilar el modelo\n",
    "model.compile(optimizer=optimizer, loss='binary_crossentropy', metrics=['accuracy'])\n",
    "\n",
    "# Resumen del modelo\n",
    "model.summary()"
   ]
  },
  {
   "cell_type": "code",
   "execution_count": 65,
   "metadata": {},
   "outputs": [
    {
     "name": "stdout",
     "output_type": "stream",
     "text": [
      "Epoch 1/50\n",
      "1500/1500 [==============================] - 4s 2ms/step - loss: 0.1123 - accuracy: 0.0504 - val_loss: 0.1050 - val_accuracy: 0.0779\n",
      "Epoch 2/50\n",
      "1500/1500 [==============================] - 3s 2ms/step - loss: 0.1034 - accuracy: 0.0482 - val_loss: 0.0928 - val_accuracy: 0.0547\n",
      "Epoch 3/50\n",
      "1112/1500 [=====================>........] - ETA: 0s - loss: 0.1032 - accuracy: 0.0511"
     ]
    },
    {
     "ename": "KeyboardInterrupt",
     "evalue": "",
     "output_type": "error",
     "traceback": [
      "\u001b[1;31m---------------------------------------------------------------------------\u001b[0m",
      "\u001b[1;31mKeyboardInterrupt\u001b[0m                         Traceback (most recent call last)",
      "\u001b[1;32mc:\\Users\\franc\\OneDrive\\Documentos\\VScode\\Github\\Franico-proyecto\\training.ipynb Cell 18\u001b[0m line \u001b[0;36m1\n\u001b[1;32m----> <a href='vscode-notebook-cell:/c%3A/Users/franc/OneDrive/Documentos/VScode/Github/Franico-proyecto/training.ipynb#X43sZmlsZQ%3D%3D?line=0'>1</a>\u001b[0m history \u001b[39m=\u001b[39m model\u001b[39m.\u001b[39;49mfit( x_train_flat, np\u001b[39m.\u001b[39;49marray(y_train), epochs\u001b[39m=\u001b[39;49m\u001b[39m50\u001b[39;49m, batch_size\u001b[39m=\u001b[39;49m\u001b[39m32\u001b[39;49m, validation_data \u001b[39m=\u001b[39;49m (x_test_flat, np\u001b[39m.\u001b[39;49marray(y_test)) )\n",
      "File \u001b[1;32mc:\\Users\\franc\\AppData\\Local\\Programs\\Python\\Python39\\lib\\site-packages\\keras\\src\\utils\\traceback_utils.py:65\u001b[0m, in \u001b[0;36mfilter_traceback.<locals>.error_handler\u001b[1;34m(*args, **kwargs)\u001b[0m\n\u001b[0;32m     63\u001b[0m filtered_tb \u001b[39m=\u001b[39m \u001b[39mNone\u001b[39;00m\n\u001b[0;32m     64\u001b[0m \u001b[39mtry\u001b[39;00m:\n\u001b[1;32m---> 65\u001b[0m     \u001b[39mreturn\u001b[39;00m fn(\u001b[39m*\u001b[39margs, \u001b[39m*\u001b[39m\u001b[39m*\u001b[39mkwargs)\n\u001b[0;32m     66\u001b[0m \u001b[39mexcept\u001b[39;00m \u001b[39mException\u001b[39;00m \u001b[39mas\u001b[39;00m e:\n\u001b[0;32m     67\u001b[0m     filtered_tb \u001b[39m=\u001b[39m _process_traceback_frames(e\u001b[39m.\u001b[39m__traceback__)\n",
      "File \u001b[1;32mc:\\Users\\franc\\AppData\\Local\\Programs\\Python\\Python39\\lib\\site-packages\\keras\\src\\engine\\training.py:1742\u001b[0m, in \u001b[0;36mModel.fit\u001b[1;34m(self, x, y, batch_size, epochs, verbose, callbacks, validation_split, validation_data, shuffle, class_weight, sample_weight, initial_epoch, steps_per_epoch, validation_steps, validation_batch_size, validation_freq, max_queue_size, workers, use_multiprocessing)\u001b[0m\n\u001b[0;32m   1734\u001b[0m \u001b[39mwith\u001b[39;00m tf\u001b[39m.\u001b[39mprofiler\u001b[39m.\u001b[39mexperimental\u001b[39m.\u001b[39mTrace(\n\u001b[0;32m   1735\u001b[0m     \u001b[39m\"\u001b[39m\u001b[39mtrain\u001b[39m\u001b[39m\"\u001b[39m,\n\u001b[0;32m   1736\u001b[0m     epoch_num\u001b[39m=\u001b[39mepoch,\n\u001b[1;32m   (...)\u001b[0m\n\u001b[0;32m   1739\u001b[0m     _r\u001b[39m=\u001b[39m\u001b[39m1\u001b[39m,\n\u001b[0;32m   1740\u001b[0m ):\n\u001b[0;32m   1741\u001b[0m     callbacks\u001b[39m.\u001b[39mon_train_batch_begin(step)\n\u001b[1;32m-> 1742\u001b[0m     tmp_logs \u001b[39m=\u001b[39m \u001b[39mself\u001b[39;49m\u001b[39m.\u001b[39;49mtrain_function(iterator)\n\u001b[0;32m   1743\u001b[0m     \u001b[39mif\u001b[39;00m data_handler\u001b[39m.\u001b[39mshould_sync:\n\u001b[0;32m   1744\u001b[0m         context\u001b[39m.\u001b[39masync_wait()\n",
      "File \u001b[1;32mc:\\Users\\franc\\AppData\\Local\\Programs\\Python\\Python39\\lib\\site-packages\\tensorflow\\python\\util\\traceback_utils.py:150\u001b[0m, in \u001b[0;36mfilter_traceback.<locals>.error_handler\u001b[1;34m(*args, **kwargs)\u001b[0m\n\u001b[0;32m    148\u001b[0m filtered_tb \u001b[39m=\u001b[39m \u001b[39mNone\u001b[39;00m\n\u001b[0;32m    149\u001b[0m \u001b[39mtry\u001b[39;00m:\n\u001b[1;32m--> 150\u001b[0m   \u001b[39mreturn\u001b[39;00m fn(\u001b[39m*\u001b[39margs, \u001b[39m*\u001b[39m\u001b[39m*\u001b[39mkwargs)\n\u001b[0;32m    151\u001b[0m \u001b[39mexcept\u001b[39;00m \u001b[39mException\u001b[39;00m \u001b[39mas\u001b[39;00m e:\n\u001b[0;32m    152\u001b[0m   filtered_tb \u001b[39m=\u001b[39m _process_traceback_frames(e\u001b[39m.\u001b[39m__traceback__)\n",
      "File \u001b[1;32mc:\\Users\\franc\\AppData\\Local\\Programs\\Python\\Python39\\lib\\site-packages\\tensorflow\\python\\eager\\polymorphic_function\\polymorphic_function.py:825\u001b[0m, in \u001b[0;36mFunction.__call__\u001b[1;34m(self, *args, **kwds)\u001b[0m\n\u001b[0;32m    822\u001b[0m compiler \u001b[39m=\u001b[39m \u001b[39m\"\u001b[39m\u001b[39mxla\u001b[39m\u001b[39m\"\u001b[39m \u001b[39mif\u001b[39;00m \u001b[39mself\u001b[39m\u001b[39m.\u001b[39m_jit_compile \u001b[39melse\u001b[39;00m \u001b[39m\"\u001b[39m\u001b[39mnonXla\u001b[39m\u001b[39m\"\u001b[39m\n\u001b[0;32m    824\u001b[0m \u001b[39mwith\u001b[39;00m OptionalXlaContext(\u001b[39mself\u001b[39m\u001b[39m.\u001b[39m_jit_compile):\n\u001b[1;32m--> 825\u001b[0m   result \u001b[39m=\u001b[39m \u001b[39mself\u001b[39m\u001b[39m.\u001b[39m_call(\u001b[39m*\u001b[39margs, \u001b[39m*\u001b[39m\u001b[39m*\u001b[39mkwds)\n\u001b[0;32m    827\u001b[0m new_tracing_count \u001b[39m=\u001b[39m \u001b[39mself\u001b[39m\u001b[39m.\u001b[39mexperimental_get_tracing_count()\n\u001b[0;32m    828\u001b[0m without_tracing \u001b[39m=\u001b[39m (tracing_count \u001b[39m==\u001b[39m new_tracing_count)\n",
      "File \u001b[1;32mc:\\Users\\franc\\AppData\\Local\\Programs\\Python\\Python39\\lib\\site-packages\\tensorflow\\python\\eager\\polymorphic_function\\polymorphic_function.py:857\u001b[0m, in \u001b[0;36mFunction._call\u001b[1;34m(self, *args, **kwds)\u001b[0m\n\u001b[0;32m    854\u001b[0m   \u001b[39mself\u001b[39m\u001b[39m.\u001b[39m_lock\u001b[39m.\u001b[39mrelease()\n\u001b[0;32m    855\u001b[0m   \u001b[39m# In this case we have created variables on the first call, so we run the\u001b[39;00m\n\u001b[0;32m    856\u001b[0m   \u001b[39m# defunned version which is guaranteed to never create variables.\u001b[39;00m\n\u001b[1;32m--> 857\u001b[0m   \u001b[39mreturn\u001b[39;00m \u001b[39mself\u001b[39m\u001b[39m.\u001b[39m_no_variable_creation_fn(\u001b[39m*\u001b[39margs, \u001b[39m*\u001b[39m\u001b[39m*\u001b[39mkwds)  \u001b[39m# pylint: disable=not-callable\u001b[39;00m\n\u001b[0;32m    858\u001b[0m \u001b[39melif\u001b[39;00m \u001b[39mself\u001b[39m\u001b[39m.\u001b[39m_variable_creation_fn \u001b[39mis\u001b[39;00m \u001b[39mnot\u001b[39;00m \u001b[39mNone\u001b[39;00m:\n\u001b[0;32m    859\u001b[0m   \u001b[39m# Release the lock early so that multiple threads can perform the call\u001b[39;00m\n\u001b[0;32m    860\u001b[0m   \u001b[39m# in parallel.\u001b[39;00m\n\u001b[0;32m    861\u001b[0m   \u001b[39mself\u001b[39m\u001b[39m.\u001b[39m_lock\u001b[39m.\u001b[39mrelease()\n",
      "File \u001b[1;32mc:\\Users\\franc\\AppData\\Local\\Programs\\Python\\Python39\\lib\\site-packages\\tensorflow\\python\\eager\\polymorphic_function\\tracing_compiler.py:148\u001b[0m, in \u001b[0;36mTracingCompiler.__call__\u001b[1;34m(self, *args, **kwargs)\u001b[0m\n\u001b[0;32m    145\u001b[0m \u001b[39mwith\u001b[39;00m \u001b[39mself\u001b[39m\u001b[39m.\u001b[39m_lock:\n\u001b[0;32m    146\u001b[0m   (concrete_function,\n\u001b[0;32m    147\u001b[0m    filtered_flat_args) \u001b[39m=\u001b[39m \u001b[39mself\u001b[39m\u001b[39m.\u001b[39m_maybe_define_function(args, kwargs)\n\u001b[1;32m--> 148\u001b[0m \u001b[39mreturn\u001b[39;00m concrete_function\u001b[39m.\u001b[39;49m_call_flat(\n\u001b[0;32m    149\u001b[0m     filtered_flat_args, captured_inputs\u001b[39m=\u001b[39;49mconcrete_function\u001b[39m.\u001b[39;49mcaptured_inputs)\n",
      "File \u001b[1;32mc:\\Users\\franc\\AppData\\Local\\Programs\\Python\\Python39\\lib\\site-packages\\tensorflow\\python\\eager\\polymorphic_function\\monomorphic_function.py:1349\u001b[0m, in \u001b[0;36mConcreteFunction._call_flat\u001b[1;34m(self, args, captured_inputs)\u001b[0m\n\u001b[0;32m   1345\u001b[0m possible_gradient_type \u001b[39m=\u001b[39m gradients_util\u001b[39m.\u001b[39mPossibleTapeGradientTypes(args)\n\u001b[0;32m   1346\u001b[0m \u001b[39mif\u001b[39;00m (possible_gradient_type \u001b[39m==\u001b[39m gradients_util\u001b[39m.\u001b[39mPOSSIBLE_GRADIENT_TYPES_NONE\n\u001b[0;32m   1347\u001b[0m     \u001b[39mand\u001b[39;00m executing_eagerly):\n\u001b[0;32m   1348\u001b[0m   \u001b[39m# No tape is watching; skip to running the function.\u001b[39;00m\n\u001b[1;32m-> 1349\u001b[0m   \u001b[39mreturn\u001b[39;00m \u001b[39mself\u001b[39m\u001b[39m.\u001b[39m_build_call_outputs(\u001b[39mself\u001b[39;49m\u001b[39m.\u001b[39;49m_inference_function(\u001b[39m*\u001b[39;49margs))\n\u001b[0;32m   1350\u001b[0m forward_backward \u001b[39m=\u001b[39m \u001b[39mself\u001b[39m\u001b[39m.\u001b[39m_select_forward_and_backward_functions(\n\u001b[0;32m   1351\u001b[0m     args,\n\u001b[0;32m   1352\u001b[0m     possible_gradient_type,\n\u001b[0;32m   1353\u001b[0m     executing_eagerly)\n\u001b[0;32m   1354\u001b[0m forward_function, args_with_tangents \u001b[39m=\u001b[39m forward_backward\u001b[39m.\u001b[39mforward()\n",
      "File \u001b[1;32mc:\\Users\\franc\\AppData\\Local\\Programs\\Python\\Python39\\lib\\site-packages\\tensorflow\\python\\eager\\polymorphic_function\\atomic_function.py:196\u001b[0m, in \u001b[0;36mAtomicFunction.__call__\u001b[1;34m(self, *args)\u001b[0m\n\u001b[0;32m    194\u001b[0m \u001b[39mwith\u001b[39;00m record\u001b[39m.\u001b[39mstop_recording():\n\u001b[0;32m    195\u001b[0m   \u001b[39mif\u001b[39;00m \u001b[39mself\u001b[39m\u001b[39m.\u001b[39m_bound_context\u001b[39m.\u001b[39mexecuting_eagerly():\n\u001b[1;32m--> 196\u001b[0m     outputs \u001b[39m=\u001b[39m \u001b[39mself\u001b[39;49m\u001b[39m.\u001b[39;49m_bound_context\u001b[39m.\u001b[39;49mcall_function(\n\u001b[0;32m    197\u001b[0m         \u001b[39mself\u001b[39;49m\u001b[39m.\u001b[39;49mname,\n\u001b[0;32m    198\u001b[0m         \u001b[39mlist\u001b[39;49m(args),\n\u001b[0;32m    199\u001b[0m         \u001b[39mlen\u001b[39;49m(\u001b[39mself\u001b[39;49m\u001b[39m.\u001b[39;49mfunction_type\u001b[39m.\u001b[39;49mflat_outputs),\n\u001b[0;32m    200\u001b[0m     )\n\u001b[0;32m    201\u001b[0m   \u001b[39melse\u001b[39;00m:\n\u001b[0;32m    202\u001b[0m     outputs \u001b[39m=\u001b[39m make_call_op_in_graph(\u001b[39mself\u001b[39m, \u001b[39mlist\u001b[39m(args))\n",
      "File \u001b[1;32mc:\\Users\\franc\\AppData\\Local\\Programs\\Python\\Python39\\lib\\site-packages\\tensorflow\\python\\eager\\context.py:1457\u001b[0m, in \u001b[0;36mContext.call_function\u001b[1;34m(self, name, tensor_inputs, num_outputs)\u001b[0m\n\u001b[0;32m   1455\u001b[0m cancellation_context \u001b[39m=\u001b[39m cancellation\u001b[39m.\u001b[39mcontext()\n\u001b[0;32m   1456\u001b[0m \u001b[39mif\u001b[39;00m cancellation_context \u001b[39mis\u001b[39;00m \u001b[39mNone\u001b[39;00m:\n\u001b[1;32m-> 1457\u001b[0m   outputs \u001b[39m=\u001b[39m execute\u001b[39m.\u001b[39;49mexecute(\n\u001b[0;32m   1458\u001b[0m       name\u001b[39m.\u001b[39;49mdecode(\u001b[39m\"\u001b[39;49m\u001b[39mutf-8\u001b[39;49m\u001b[39m\"\u001b[39;49m),\n\u001b[0;32m   1459\u001b[0m       num_outputs\u001b[39m=\u001b[39;49mnum_outputs,\n\u001b[0;32m   1460\u001b[0m       inputs\u001b[39m=\u001b[39;49mtensor_inputs,\n\u001b[0;32m   1461\u001b[0m       attrs\u001b[39m=\u001b[39;49mattrs,\n\u001b[0;32m   1462\u001b[0m       ctx\u001b[39m=\u001b[39;49m\u001b[39mself\u001b[39;49m,\n\u001b[0;32m   1463\u001b[0m   )\n\u001b[0;32m   1464\u001b[0m \u001b[39melse\u001b[39;00m:\n\u001b[0;32m   1465\u001b[0m   outputs \u001b[39m=\u001b[39m execute\u001b[39m.\u001b[39mexecute_with_cancellation(\n\u001b[0;32m   1466\u001b[0m       name\u001b[39m.\u001b[39mdecode(\u001b[39m\"\u001b[39m\u001b[39mutf-8\u001b[39m\u001b[39m\"\u001b[39m),\n\u001b[0;32m   1467\u001b[0m       num_outputs\u001b[39m=\u001b[39mnum_outputs,\n\u001b[1;32m   (...)\u001b[0m\n\u001b[0;32m   1471\u001b[0m       cancellation_manager\u001b[39m=\u001b[39mcancellation_context,\n\u001b[0;32m   1472\u001b[0m   )\n",
      "File \u001b[1;32mc:\\Users\\franc\\AppData\\Local\\Programs\\Python\\Python39\\lib\\site-packages\\tensorflow\\python\\eager\\execute.py:53\u001b[0m, in \u001b[0;36mquick_execute\u001b[1;34m(op_name, num_outputs, inputs, attrs, ctx, name)\u001b[0m\n\u001b[0;32m     51\u001b[0m \u001b[39mtry\u001b[39;00m:\n\u001b[0;32m     52\u001b[0m   ctx\u001b[39m.\u001b[39mensure_initialized()\n\u001b[1;32m---> 53\u001b[0m   tensors \u001b[39m=\u001b[39m pywrap_tfe\u001b[39m.\u001b[39;49mTFE_Py_Execute(ctx\u001b[39m.\u001b[39;49m_handle, device_name, op_name,\n\u001b[0;32m     54\u001b[0m                                       inputs, attrs, num_outputs)\n\u001b[0;32m     55\u001b[0m \u001b[39mexcept\u001b[39;00m core\u001b[39m.\u001b[39m_NotOkStatusException \u001b[39mas\u001b[39;00m e:\n\u001b[0;32m     56\u001b[0m   \u001b[39mif\u001b[39;00m name \u001b[39mis\u001b[39;00m \u001b[39mnot\u001b[39;00m \u001b[39mNone\u001b[39;00m:\n",
      "\u001b[1;31mKeyboardInterrupt\u001b[0m: "
     ]
    }
   ],
   "source": [
    "history = model.fit( x_train_flat, np.array(y_train), epochs=50, batch_size=32, validation_data = (x_test_flat, np.array(y_test)) )"
   ]
  },
  {
   "cell_type": "code",
   "execution_count": 35,
   "metadata": {},
   "outputs": [
    {
     "data": {
      "text/plain": [
       "(47978, 36)"
      ]
     },
     "execution_count": 35,
     "metadata": {},
     "output_type": "execute_result"
    }
   ],
   "source": [
    "np.array(x_train_flat).shape"
   ]
  },
  {
   "cell_type": "markdown",
   "metadata": {},
   "source": [
    "PCA"
   ]
  },
  {
   "cell_type": "code",
   "execution_count": 24,
   "metadata": {},
   "outputs": [
    {
     "name": "stdout",
     "output_type": "stream",
     "text": [
      "Datos originales de tamaño: (47978, 36)\n",
      "Datos reducidos de tamaño: (47978, 30)\n"
     ]
    }
   ],
   "source": [
    "from sklearn.decomposition import PCA\n",
    "\n",
    "# Especificar el número de componentes principales deseados (menor dimensionalidad)\n",
    "n_components = 30  # Cambia este valor según tus necesidades\n",
    "\n",
    "# Crear una instancia de PCA\n",
    "pca = PCA(n_components=n_components)\n",
    "\n",
    "# Ajustar el modelo PCA a tus datos\n",
    "pca.fit(x_train_flat)\n",
    "\n",
    "# Transformar tus datos a un espacio de menor dimensionalidad\n",
    "data_reduced = pca.transform(x_train_flat)\n",
    "datat_reduced = pca.transform(x_test_flat)\n",
    "\n",
    "# Los datos reducidos ahora tienen menos dimensiones (2 en este ejemplo)\n",
    "print(\"Datos originales de tamaño:\", x_train_flat.shape)\n",
    "print(\"Datos reducidos de tamaño:\", data_reduced.shape)"
   ]
  },
  {
   "cell_type": "code",
   "execution_count": 25,
   "metadata": {},
   "outputs": [
    {
     "name": "stdout",
     "output_type": "stream",
     "text": [
      "0.7492461822779886\n",
      "\n",
      "total de predicciones: 20562\n",
      "Total de vector con 1 error: 4107\n",
      "Total de vector con 2 error: 879\n",
      "\n",
      "Precision con 1 error: 0.94898356191032\n",
      "Precision con 2 error: 0.9917323217585838\n"
     ]
    }
   ],
   "source": [
    "modelo = RandomForestClassifier(n_estimators = 70, min_samples_split = 9, min_samples_leaf = 1, max_depth = None, bootstrap = False)\n",
    "modelo = modelo.fit(data_reduced, y_train)\n",
    "prediccion = modelo.predict(datat_reduced)\n",
    "\n",
    "print(accuracy_score(prediccion, y_test))\n",
    "print(\"\")\n",
    "\n",
    "lista1 = error_threshold(prediccion, y_test, 1)\n",
    "lista2 = error_threshold(prediccion, y_test, 2)\n",
    "prediccion = modelo.predict(datat_reduced)\n",
    "pre = accuracy_score(prediccion, y_test)\n",
    "\n",
    "print(\"total de predicciones:\", len(x_test))\n",
    "print(\"Total de vector con 1 error:\", len(lista1[1]))\n",
    "print(\"Total de vector con 2 error:\", len(lista2[1]))\n",
    "print(\"\")\n",
    "\n",
    "print(\"Precision con 1 error:\", (len(lista1[1]) + pre*len(x_test))/len(x_test))\n",
    "print(\"Precision con 2 error:\", (len(lista1[1]) + len(lista2[1]) + pre*len(x_test))/len(x_test))"
   ]
  },
  {
   "cell_type": "code",
   "execution_count": 82,
   "metadata": {},
   "outputs": [
    {
     "data": {
      "text/plain": [
       "[<matplotlib.lines.Line2D at 0x1c444db4b80>]"
      ]
     },
     "execution_count": 82,
     "metadata": {},
     "output_type": "execute_result"
    },
    {
     "data": {
      "image/png": "[encoded data removed]",
      "text/plain": [
       "<Figure size 640x480 with 1 Axes>"
      ]
     },
     "metadata": {},
     "output_type": "display_data"
    }
   ],
   "source": [
    "plt.plot(x_train_flat[2])"
   ]
  },
  {
   "cell_type": "code",
   "execution_count": null,
   "metadata": {},
   "outputs": [],
   "source": []
  }
 ],
 "metadata": {
  "kernelspec": {
   "display_name": "Python 3",
   "language": "python",
   "name": "python3"
  },
  "language_info": {
   "codemirror_mode": {
    "name": "ipython",
    "version": 3
   },
   "file_extension": ".py",
   "mimetype": "text/x-python",
   "name": "python",
   "nbconvert_exporter": "python",
   "pygments_lexer": "ipython3",
   "version": "3.9.13"
  },
  "orig_nbformat": 4
 },
 "nbformat": 4,
 "nbformat_minor": 2
}
